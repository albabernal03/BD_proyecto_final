{
 "cells": [
  {
   "attachments": {},
   "cell_type": "markdown",
   "metadata": {},
   "source": [
    "### PUNTO 1 :ANÁLISIS"
   ]
  },
  {
   "attachments": {},
   "cell_type": "markdown",
   "metadata": {},
   "source": [
    "Importamos las librerias necesarias, en este caso trabajaremos con ``Dask`` pues nos permite trabajar con grandes volumenes de datos y además facilita el escalado de librerias como Pandas, Numpy y Scikit-learn."
   ]
  },
  {
   "cell_type": "code",
   "execution_count": 253,
   "metadata": {},
   "outputs": [],
   "source": [
    "#Importamos la librería\n",
    "import dask.dataframe as dd"
   ]
  },
  {
   "cell_type": "code",
   "execution_count": 254,
   "metadata": {},
   "outputs": [],
   "source": [
    "#Cargamos el dataset\n",
    "df= dd.read_csv('../data/air_traffic_data.csv')"
   ]
  },
  {
   "cell_type": "code",
   "execution_count": 255,
   "metadata": {},
   "outputs": [
    {
     "data": {
      "text/html": [
       "<div>\n",
       "<style scoped>\n",
       "    .dataframe tbody tr th:only-of-type {\n",
       "        vertical-align: middle;\n",
       "    }\n",
       "\n",
       "    .dataframe tbody tr th {\n",
       "        vertical-align: top;\n",
       "    }\n",
       "\n",
       "    .dataframe thead th {\n",
       "        text-align: right;\n",
       "    }\n",
       "</style>\n",
       "<table border=\"1\" class=\"dataframe\">\n",
       "  <thead>\n",
       "    <tr style=\"text-align: right;\">\n",
       "      <th></th>\n",
       "      <th>Activity Period</th>\n",
       "      <th>Operating Airline</th>\n",
       "      <th>Operating Airline IATA Code</th>\n",
       "      <th>Published Airline</th>\n",
       "      <th>Published Airline IATA Code</th>\n",
       "      <th>GEO Summary</th>\n",
       "      <th>GEO Region</th>\n",
       "      <th>Activity Type Code</th>\n",
       "      <th>Price Category Code</th>\n",
       "      <th>Terminal</th>\n",
       "      <th>Boarding Area</th>\n",
       "      <th>Passenger Count</th>\n",
       "      <th>Adjusted Activity Type Code</th>\n",
       "      <th>Adjusted Passenger Count</th>\n",
       "      <th>Year</th>\n",
       "      <th>Month</th>\n",
       "    </tr>\n",
       "  </thead>\n",
       "  <tbody>\n",
       "    <tr>\n",
       "      <th>0</th>\n",
       "      <td>200507</td>\n",
       "      <td>ATA Airlines</td>\n",
       "      <td>TZ</td>\n",
       "      <td>ATA Airlines</td>\n",
       "      <td>TZ</td>\n",
       "      <td>Domestic</td>\n",
       "      <td>US</td>\n",
       "      <td>Deplaned</td>\n",
       "      <td>Low Fare</td>\n",
       "      <td>Terminal 1</td>\n",
       "      <td>B</td>\n",
       "      <td>27271</td>\n",
       "      <td>Deplaned</td>\n",
       "      <td>27271</td>\n",
       "      <td>2005</td>\n",
       "      <td>July</td>\n",
       "    </tr>\n",
       "    <tr>\n",
       "      <th>1</th>\n",
       "      <td>200507</td>\n",
       "      <td>ATA Airlines</td>\n",
       "      <td>TZ</td>\n",
       "      <td>ATA Airlines</td>\n",
       "      <td>TZ</td>\n",
       "      <td>Domestic</td>\n",
       "      <td>US</td>\n",
       "      <td>Enplaned</td>\n",
       "      <td>Low Fare</td>\n",
       "      <td>Terminal 1</td>\n",
       "      <td>B</td>\n",
       "      <td>29131</td>\n",
       "      <td>Enplaned</td>\n",
       "      <td>29131</td>\n",
       "      <td>2005</td>\n",
       "      <td>July</td>\n",
       "    </tr>\n",
       "    <tr>\n",
       "      <th>2</th>\n",
       "      <td>200507</td>\n",
       "      <td>ATA Airlines</td>\n",
       "      <td>TZ</td>\n",
       "      <td>ATA Airlines</td>\n",
       "      <td>TZ</td>\n",
       "      <td>Domestic</td>\n",
       "      <td>US</td>\n",
       "      <td>Thru / Transit</td>\n",
       "      <td>Low Fare</td>\n",
       "      <td>Terminal 1</td>\n",
       "      <td>B</td>\n",
       "      <td>5415</td>\n",
       "      <td>Thru / Transit * 2</td>\n",
       "      <td>10830</td>\n",
       "      <td>2005</td>\n",
       "      <td>July</td>\n",
       "    </tr>\n",
       "    <tr>\n",
       "      <th>3</th>\n",
       "      <td>200507</td>\n",
       "      <td>Air Canada</td>\n",
       "      <td>AC</td>\n",
       "      <td>Air Canada</td>\n",
       "      <td>AC</td>\n",
       "      <td>International</td>\n",
       "      <td>Canada</td>\n",
       "      <td>Deplaned</td>\n",
       "      <td>Other</td>\n",
       "      <td>Terminal 1</td>\n",
       "      <td>B</td>\n",
       "      <td>35156</td>\n",
       "      <td>Deplaned</td>\n",
       "      <td>35156</td>\n",
       "      <td>2005</td>\n",
       "      <td>July</td>\n",
       "    </tr>\n",
       "    <tr>\n",
       "      <th>4</th>\n",
       "      <td>200507</td>\n",
       "      <td>Air Canada</td>\n",
       "      <td>AC</td>\n",
       "      <td>Air Canada</td>\n",
       "      <td>AC</td>\n",
       "      <td>International</td>\n",
       "      <td>Canada</td>\n",
       "      <td>Enplaned</td>\n",
       "      <td>Other</td>\n",
       "      <td>Terminal 1</td>\n",
       "      <td>B</td>\n",
       "      <td>34090</td>\n",
       "      <td>Enplaned</td>\n",
       "      <td>34090</td>\n",
       "      <td>2005</td>\n",
       "      <td>July</td>\n",
       "    </tr>\n",
       "    <tr>\n",
       "      <th>...</th>\n",
       "      <td>...</td>\n",
       "      <td>...</td>\n",
       "      <td>...</td>\n",
       "      <td>...</td>\n",
       "      <td>...</td>\n",
       "      <td>...</td>\n",
       "      <td>...</td>\n",
       "      <td>...</td>\n",
       "      <td>...</td>\n",
       "      <td>...</td>\n",
       "      <td>...</td>\n",
       "      <td>...</td>\n",
       "      <td>...</td>\n",
       "      <td>...</td>\n",
       "      <td>...</td>\n",
       "      <td>...</td>\n",
       "    </tr>\n",
       "    <tr>\n",
       "      <th>15002</th>\n",
       "      <td>201603</td>\n",
       "      <td>Virgin America</td>\n",
       "      <td>VX</td>\n",
       "      <td>Virgin America</td>\n",
       "      <td>VX</td>\n",
       "      <td>Domestic</td>\n",
       "      <td>US</td>\n",
       "      <td>Enplaned</td>\n",
       "      <td>Low Fare</td>\n",
       "      <td>Terminal 2</td>\n",
       "      <td>D</td>\n",
       "      <td>194636</td>\n",
       "      <td>Enplaned</td>\n",
       "      <td>194636</td>\n",
       "      <td>2016</td>\n",
       "      <td>March</td>\n",
       "    </tr>\n",
       "    <tr>\n",
       "      <th>15003</th>\n",
       "      <td>201603</td>\n",
       "      <td>Virgin America</td>\n",
       "      <td>VX</td>\n",
       "      <td>Virgin America</td>\n",
       "      <td>VX</td>\n",
       "      <td>International</td>\n",
       "      <td>Mexico</td>\n",
       "      <td>Deplaned</td>\n",
       "      <td>Low Fare</td>\n",
       "      <td>International</td>\n",
       "      <td>A</td>\n",
       "      <td>4189</td>\n",
       "      <td>Deplaned</td>\n",
       "      <td>4189</td>\n",
       "      <td>2016</td>\n",
       "      <td>March</td>\n",
       "    </tr>\n",
       "    <tr>\n",
       "      <th>15004</th>\n",
       "      <td>201603</td>\n",
       "      <td>Virgin America</td>\n",
       "      <td>VX</td>\n",
       "      <td>Virgin America</td>\n",
       "      <td>VX</td>\n",
       "      <td>International</td>\n",
       "      <td>Mexico</td>\n",
       "      <td>Enplaned</td>\n",
       "      <td>Low Fare</td>\n",
       "      <td>Terminal 2</td>\n",
       "      <td>D</td>\n",
       "      <td>4693</td>\n",
       "      <td>Enplaned</td>\n",
       "      <td>4693</td>\n",
       "      <td>2016</td>\n",
       "      <td>March</td>\n",
       "    </tr>\n",
       "    <tr>\n",
       "      <th>15005</th>\n",
       "      <td>201603</td>\n",
       "      <td>Virgin Atlantic</td>\n",
       "      <td>VS</td>\n",
       "      <td>Virgin Atlantic</td>\n",
       "      <td>VS</td>\n",
       "      <td>International</td>\n",
       "      <td>Europe</td>\n",
       "      <td>Deplaned</td>\n",
       "      <td>Other</td>\n",
       "      <td>International</td>\n",
       "      <td>A</td>\n",
       "      <td>12313</td>\n",
       "      <td>Deplaned</td>\n",
       "      <td>12313</td>\n",
       "      <td>2016</td>\n",
       "      <td>March</td>\n",
       "    </tr>\n",
       "    <tr>\n",
       "      <th>15006</th>\n",
       "      <td>201603</td>\n",
       "      <td>Virgin Atlantic</td>\n",
       "      <td>VS</td>\n",
       "      <td>Virgin Atlantic</td>\n",
       "      <td>VS</td>\n",
       "      <td>International</td>\n",
       "      <td>Europe</td>\n",
       "      <td>Enplaned</td>\n",
       "      <td>Other</td>\n",
       "      <td>International</td>\n",
       "      <td>A</td>\n",
       "      <td>10898</td>\n",
       "      <td>Enplaned</td>\n",
       "      <td>10898</td>\n",
       "      <td>2016</td>\n",
       "      <td>March</td>\n",
       "    </tr>\n",
       "  </tbody>\n",
       "</table>\n",
       "<p>15007 rows × 16 columns</p>\n",
       "</div>"
      ],
      "text/plain": [
       "       Activity Period Operating Airline Operating Airline IATA Code  \\\n",
       "0               200507      ATA Airlines                          TZ   \n",
       "1               200507      ATA Airlines                          TZ   \n",
       "2               200507      ATA Airlines                          TZ   \n",
       "3               200507       Air Canada                           AC   \n",
       "4               200507       Air Canada                           AC   \n",
       "...                ...               ...                         ...   \n",
       "15002           201603    Virgin America                          VX   \n",
       "15003           201603    Virgin America                          VX   \n",
       "15004           201603    Virgin America                          VX   \n",
       "15005           201603   Virgin Atlantic                          VS   \n",
       "15006           201603   Virgin Atlantic                          VS   \n",
       "\n",
       "      Published Airline Published Airline IATA Code    GEO Summary GEO Region  \\\n",
       "0          ATA Airlines                          TZ       Domestic         US   \n",
       "1          ATA Airlines                          TZ       Domestic         US   \n",
       "2          ATA Airlines                          TZ       Domestic         US   \n",
       "3           Air Canada                           AC  International     Canada   \n",
       "4           Air Canada                           AC  International     Canada   \n",
       "...                 ...                         ...            ...        ...   \n",
       "15002    Virgin America                          VX       Domestic         US   \n",
       "15003    Virgin America                          VX  International     Mexico   \n",
       "15004    Virgin America                          VX  International     Mexico   \n",
       "15005   Virgin Atlantic                          VS  International     Europe   \n",
       "15006   Virgin Atlantic                          VS  International     Europe   \n",
       "\n",
       "      Activity Type Code Price Category Code       Terminal Boarding Area  \\\n",
       "0               Deplaned            Low Fare     Terminal 1             B   \n",
       "1               Enplaned            Low Fare     Terminal 1             B   \n",
       "2         Thru / Transit            Low Fare     Terminal 1             B   \n",
       "3               Deplaned               Other     Terminal 1             B   \n",
       "4               Enplaned               Other     Terminal 1             B   \n",
       "...                  ...                 ...            ...           ...   \n",
       "15002           Enplaned            Low Fare     Terminal 2             D   \n",
       "15003           Deplaned            Low Fare  International             A   \n",
       "15004           Enplaned            Low Fare     Terminal 2             D   \n",
       "15005           Deplaned               Other  International             A   \n",
       "15006           Enplaned               Other  International             A   \n",
       "\n",
       "       Passenger Count Adjusted Activity Type Code  Adjusted Passenger Count  \\\n",
       "0                27271                    Deplaned                     27271   \n",
       "1                29131                    Enplaned                     29131   \n",
       "2                 5415          Thru / Transit * 2                     10830   \n",
       "3                35156                    Deplaned                     35156   \n",
       "4                34090                    Enplaned                     34090   \n",
       "...                ...                         ...                       ...   \n",
       "15002           194636                    Enplaned                    194636   \n",
       "15003             4189                    Deplaned                      4189   \n",
       "15004             4693                    Enplaned                      4693   \n",
       "15005            12313                    Deplaned                     12313   \n",
       "15006            10898                    Enplaned                     10898   \n",
       "\n",
       "       Year  Month  \n",
       "0      2005   July  \n",
       "1      2005   July  \n",
       "2      2005   July  \n",
       "3      2005   July  \n",
       "4      2005   July  \n",
       "...     ...    ...  \n",
       "15002  2016  March  \n",
       "15003  2016  March  \n",
       "15004  2016  March  \n",
       "15005  2016  March  \n",
       "15006  2016  March  \n",
       "\n",
       "[15007 rows x 16 columns]"
      ]
     },
     "execution_count": 255,
     "metadata": {},
     "output_type": "execute_result"
    }
   ],
   "source": [
    "#Consultamos los registros del dataset\n",
    "df.compute()"
   ]
  },
  {
   "cell_type": "code",
   "execution_count": 256,
   "metadata": {},
   "outputs": [
    {
     "data": {
      "text/plain": [
       "Activity Period                 int64\n",
       "Operating Airline              object\n",
       "Operating Airline IATA Code    object\n",
       "Published Airline              object\n",
       "Published Airline IATA Code    object\n",
       "GEO Summary                    object\n",
       "GEO Region                     object\n",
       "Activity Type Code             object\n",
       "Price Category Code            object\n",
       "Terminal                       object\n",
       "Boarding Area                  object\n",
       "Passenger Count                 int64\n",
       "Adjusted Activity Type Code    object\n",
       "Adjusted Passenger Count        int64\n",
       "Year                            int64\n",
       "Month                          object\n",
       "dtype: object"
      ]
     },
     "execution_count": 256,
     "metadata": {},
     "output_type": "execute_result"
    }
   ],
   "source": [
    "#Miramos los tipos de datos de las columnas\n",
    "df.dtypes"
   ]
  },
  {
   "cell_type": "code",
   "execution_count": 257,
   "metadata": {},
   "outputs": [
    {
     "data": {
      "text/plain": [
       "Activity Period                 0\n",
       "Operating Airline               0\n",
       "Operating Airline IATA Code    54\n",
       "Published Airline               0\n",
       "Published Airline IATA Code    54\n",
       "GEO Summary                     0\n",
       "GEO Region                      0\n",
       "Activity Type Code              0\n",
       "Price Category Code             0\n",
       "Terminal                        0\n",
       "Boarding Area                   0\n",
       "Passenger Count                 0\n",
       "Adjusted Activity Type Code     0\n",
       "Adjusted Passenger Count        0\n",
       "Year                            0\n",
       "Month                           0\n",
       "dtype: int64"
      ]
     },
     "execution_count": 257,
     "metadata": {},
     "output_type": "execute_result"
    }
   ],
   "source": [
    "#Vemos si hay valores nulos en el dataset\n",
    "df.isnull().sum().compute()"
   ]
  },
  {
   "cell_type": "code",
   "execution_count": 258,
   "metadata": {},
   "outputs": [
    {
     "data": {
      "text/plain": [
       "Activity Period                0\n",
       "Operating Airline              0\n",
       "Operating Airline IATA Code    0\n",
       "Published Airline              0\n",
       "Published Airline IATA Code    0\n",
       "GEO Summary                    0\n",
       "GEO Region                     0\n",
       "Activity Type Code             0\n",
       "Price Category Code            0\n",
       "Terminal                       0\n",
       "Boarding Area                  0\n",
       "Passenger Count                0\n",
       "Adjusted Activity Type Code    0\n",
       "Adjusted Passenger Count       0\n",
       "Year                           0\n",
       "Month                          0\n",
       "dtype: int64"
      ]
     },
     "execution_count": 258,
     "metadata": {},
     "output_type": "execute_result"
    }
   ],
   "source": [
    "#Eliminamos los valores nulos\n",
    "df = df.dropna()\n",
    "#Comprobamos que se han eliminado los valores nulos\n",
    "df.isnull().sum().compute()"
   ]
  },
  {
   "cell_type": "code",
   "execution_count": 259,
   "metadata": {},
   "outputs": [
    {
     "data": {
      "text/html": [
       "<div>\n",
       "<style scoped>\n",
       "    .dataframe tbody tr th:only-of-type {\n",
       "        vertical-align: middle;\n",
       "    }\n",
       "\n",
       "    .dataframe tbody tr th {\n",
       "        vertical-align: top;\n",
       "    }\n",
       "\n",
       "    .dataframe thead th {\n",
       "        text-align: right;\n",
       "    }\n",
       "</style>\n",
       "<table border=\"1\" class=\"dataframe\">\n",
       "  <thead>\n",
       "    <tr style=\"text-align: right;\">\n",
       "      <th></th>\n",
       "      <th>Activity Period</th>\n",
       "      <th>Passenger Count</th>\n",
       "      <th>Adjusted Passenger Count</th>\n",
       "      <th>Year</th>\n",
       "    </tr>\n",
       "  </thead>\n",
       "  <tbody>\n",
       "    <tr>\n",
       "      <th>count</th>\n",
       "      <td>14953.000000</td>\n",
       "      <td>14953.000000</td>\n",
       "      <td>14953.000000</td>\n",
       "      <td>14953.000000</td>\n",
       "    </tr>\n",
       "    <tr>\n",
       "      <th>mean</th>\n",
       "      <td>201044.583963</td>\n",
       "      <td>29345.619006</td>\n",
       "      <td>29437.338862</td>\n",
       "      <td>2010.380325</td>\n",
       "    </tr>\n",
       "    <tr>\n",
       "      <th>std</th>\n",
       "      <td>313.675658</td>\n",
       "      <td>58398.448380</td>\n",
       "      <td>58362.879319</td>\n",
       "      <td>3.140994</td>\n",
       "    </tr>\n",
       "    <tr>\n",
       "      <th>min</th>\n",
       "      <td>200507.000000</td>\n",
       "      <td>1.000000</td>\n",
       "      <td>1.000000</td>\n",
       "      <td>2005.000000</td>\n",
       "    </tr>\n",
       "    <tr>\n",
       "      <th>25%</th>\n",
       "      <td>200803.000000</td>\n",
       "      <td>5409.000000</td>\n",
       "      <td>5523.000000</td>\n",
       "      <td>2008.000000</td>\n",
       "    </tr>\n",
       "    <tr>\n",
       "      <th>50%</th>\n",
       "      <td>201011.000000</td>\n",
       "      <td>9260.000000</td>\n",
       "      <td>9418.000000</td>\n",
       "      <td>2010.000000</td>\n",
       "    </tr>\n",
       "    <tr>\n",
       "      <th>75%</th>\n",
       "      <td>201308.000000</td>\n",
       "      <td>21222.000000</td>\n",
       "      <td>21267.000000</td>\n",
       "      <td>2013.000000</td>\n",
       "    </tr>\n",
       "    <tr>\n",
       "      <th>max</th>\n",
       "      <td>201603.000000</td>\n",
       "      <td>659837.000000</td>\n",
       "      <td>659837.000000</td>\n",
       "      <td>2016.000000</td>\n",
       "    </tr>\n",
       "  </tbody>\n",
       "</table>\n",
       "</div>"
      ],
      "text/plain": [
       "       Activity Period  Passenger Count  Adjusted Passenger Count  \\\n",
       "count     14953.000000     14953.000000              14953.000000   \n",
       "mean     201044.583963     29345.619006              29437.338862   \n",
       "std         313.675658     58398.448380              58362.879319   \n",
       "min      200507.000000         1.000000                  1.000000   \n",
       "25%      200803.000000      5409.000000               5523.000000   \n",
       "50%      201011.000000      9260.000000               9418.000000   \n",
       "75%      201308.000000     21222.000000              21267.000000   \n",
       "max      201603.000000    659837.000000             659837.000000   \n",
       "\n",
       "               Year  \n",
       "count  14953.000000  \n",
       "mean    2010.380325  \n",
       "std        3.140994  \n",
       "min     2005.000000  \n",
       "25%     2008.000000  \n",
       "50%     2010.000000  \n",
       "75%     2013.000000  \n",
       "max     2016.000000  "
      ]
     },
     "execution_count": 259,
     "metadata": {},
     "output_type": "execute_result"
    }
   ],
   "source": [
    "#Echamos un vistazo a los datos\n",
    "df.describe().compute()"
   ]
  },
  {
   "attachments": {},
   "cell_type": "markdown",
   "metadata": {},
   "source": [
    "En la lista ``columnas_innecesarias`` definimos las columnas a eliminar del dataset por ser meramente informativas."
   ]
  },
  {
   "cell_type": "code",
   "execution_count": 260,
   "metadata": {},
   "outputs": [
    {
     "data": {
      "text/html": [
       "<div>\n",
       "<style scoped>\n",
       "    .dataframe tbody tr th:only-of-type {\n",
       "        vertical-align: middle;\n",
       "    }\n",
       "\n",
       "    .dataframe tbody tr th {\n",
       "        vertical-align: top;\n",
       "    }\n",
       "\n",
       "    .dataframe thead th {\n",
       "        text-align: right;\n",
       "    }\n",
       "</style>\n",
       "<table border=\"1\" class=\"dataframe\">\n",
       "  <thead>\n",
       "    <tr style=\"text-align: right;\">\n",
       "      <th></th>\n",
       "      <th>Activity Period</th>\n",
       "      <th>Operating Airline</th>\n",
       "      <th>GEO Region</th>\n",
       "      <th>Price Category Code</th>\n",
       "      <th>Terminal</th>\n",
       "      <th>Passenger Count</th>\n",
       "      <th>Year</th>\n",
       "      <th>Month</th>\n",
       "    </tr>\n",
       "  </thead>\n",
       "  <tbody>\n",
       "    <tr>\n",
       "      <th>0</th>\n",
       "      <td>200507</td>\n",
       "      <td>ATA Airlines</td>\n",
       "      <td>US</td>\n",
       "      <td>Low Fare</td>\n",
       "      <td>Terminal 1</td>\n",
       "      <td>27271</td>\n",
       "      <td>2005</td>\n",
       "      <td>July</td>\n",
       "    </tr>\n",
       "    <tr>\n",
       "      <th>1</th>\n",
       "      <td>200507</td>\n",
       "      <td>ATA Airlines</td>\n",
       "      <td>US</td>\n",
       "      <td>Low Fare</td>\n",
       "      <td>Terminal 1</td>\n",
       "      <td>29131</td>\n",
       "      <td>2005</td>\n",
       "      <td>July</td>\n",
       "    </tr>\n",
       "    <tr>\n",
       "      <th>2</th>\n",
       "      <td>200507</td>\n",
       "      <td>ATA Airlines</td>\n",
       "      <td>US</td>\n",
       "      <td>Low Fare</td>\n",
       "      <td>Terminal 1</td>\n",
       "      <td>5415</td>\n",
       "      <td>2005</td>\n",
       "      <td>July</td>\n",
       "    </tr>\n",
       "    <tr>\n",
       "      <th>3</th>\n",
       "      <td>200507</td>\n",
       "      <td>Air Canada</td>\n",
       "      <td>Canada</td>\n",
       "      <td>Other</td>\n",
       "      <td>Terminal 1</td>\n",
       "      <td>35156</td>\n",
       "      <td>2005</td>\n",
       "      <td>July</td>\n",
       "    </tr>\n",
       "    <tr>\n",
       "      <th>4</th>\n",
       "      <td>200507</td>\n",
       "      <td>Air Canada</td>\n",
       "      <td>Canada</td>\n",
       "      <td>Other</td>\n",
       "      <td>Terminal 1</td>\n",
       "      <td>34090</td>\n",
       "      <td>2005</td>\n",
       "      <td>July</td>\n",
       "    </tr>\n",
       "    <tr>\n",
       "      <th>...</th>\n",
       "      <td>...</td>\n",
       "      <td>...</td>\n",
       "      <td>...</td>\n",
       "      <td>...</td>\n",
       "      <td>...</td>\n",
       "      <td>...</td>\n",
       "      <td>...</td>\n",
       "      <td>...</td>\n",
       "    </tr>\n",
       "    <tr>\n",
       "      <th>15002</th>\n",
       "      <td>201603</td>\n",
       "      <td>Virgin America</td>\n",
       "      <td>US</td>\n",
       "      <td>Low Fare</td>\n",
       "      <td>Terminal 2</td>\n",
       "      <td>194636</td>\n",
       "      <td>2016</td>\n",
       "      <td>March</td>\n",
       "    </tr>\n",
       "    <tr>\n",
       "      <th>15003</th>\n",
       "      <td>201603</td>\n",
       "      <td>Virgin America</td>\n",
       "      <td>Mexico</td>\n",
       "      <td>Low Fare</td>\n",
       "      <td>International</td>\n",
       "      <td>4189</td>\n",
       "      <td>2016</td>\n",
       "      <td>March</td>\n",
       "    </tr>\n",
       "    <tr>\n",
       "      <th>15004</th>\n",
       "      <td>201603</td>\n",
       "      <td>Virgin America</td>\n",
       "      <td>Mexico</td>\n",
       "      <td>Low Fare</td>\n",
       "      <td>Terminal 2</td>\n",
       "      <td>4693</td>\n",
       "      <td>2016</td>\n",
       "      <td>March</td>\n",
       "    </tr>\n",
       "    <tr>\n",
       "      <th>15005</th>\n",
       "      <td>201603</td>\n",
       "      <td>Virgin Atlantic</td>\n",
       "      <td>Europe</td>\n",
       "      <td>Other</td>\n",
       "      <td>International</td>\n",
       "      <td>12313</td>\n",
       "      <td>2016</td>\n",
       "      <td>March</td>\n",
       "    </tr>\n",
       "    <tr>\n",
       "      <th>15006</th>\n",
       "      <td>201603</td>\n",
       "      <td>Virgin Atlantic</td>\n",
       "      <td>Europe</td>\n",
       "      <td>Other</td>\n",
       "      <td>International</td>\n",
       "      <td>10898</td>\n",
       "      <td>2016</td>\n",
       "      <td>March</td>\n",
       "    </tr>\n",
       "  </tbody>\n",
       "</table>\n",
       "<p>14953 rows × 8 columns</p>\n",
       "</div>"
      ],
      "text/plain": [
       "       Activity Period Operating Airline GEO Region Price Category Code  \\\n",
       "0               200507      ATA Airlines         US            Low Fare   \n",
       "1               200507      ATA Airlines         US            Low Fare   \n",
       "2               200507      ATA Airlines         US            Low Fare   \n",
       "3               200507       Air Canada      Canada               Other   \n",
       "4               200507       Air Canada      Canada               Other   \n",
       "...                ...               ...        ...                 ...   \n",
       "15002           201603    Virgin America         US            Low Fare   \n",
       "15003           201603    Virgin America     Mexico            Low Fare   \n",
       "15004           201603    Virgin America     Mexico            Low Fare   \n",
       "15005           201603   Virgin Atlantic     Europe               Other   \n",
       "15006           201603   Virgin Atlantic     Europe               Other   \n",
       "\n",
       "            Terminal  Passenger Count  Year  Month  \n",
       "0         Terminal 1            27271  2005   July  \n",
       "1         Terminal 1            29131  2005   July  \n",
       "2         Terminal 1             5415  2005   July  \n",
       "3         Terminal 1            35156  2005   July  \n",
       "4         Terminal 1            34090  2005   July  \n",
       "...              ...              ...   ...    ...  \n",
       "15002     Terminal 2           194636  2016  March  \n",
       "15003  International             4189  2016  March  \n",
       "15004     Terminal 2             4693  2016  March  \n",
       "15005  International            12313  2016  March  \n",
       "15006  International            10898  2016  March  \n",
       "\n",
       "[14953 rows x 8 columns]"
      ]
     },
     "execution_count": 260,
     "metadata": {},
     "output_type": "execute_result"
    }
   ],
   "source": [
    "#Definimos las columnas innecesarias a eliminar\n",
    "columnas_innecesarias= ['Operating Airline IATA Code', 'Published Airline IATA Code', 'GEO Summary', 'Adjusted Activity Type Code','Adjusted Passenger Count',\n",
    "                         'Published Airline','Boarding Area','Activity Type Code']\n",
    "# Eliminar las columnas innecesarias\n",
    "df_1 = df.drop(columns=columnas_innecesarias)\n",
    "#Guardamos el dataset en un csv\n",
    "df_1.compute()"
   ]
  },
  {
   "cell_type": "code",
   "execution_count": 261,
   "metadata": {},
   "outputs": [
    {
     "data": {
      "text/plain": [
       "['/Users/hectorbernaltrujillo/Documents/informática/Programación python/ff/Ejemplo-Paso-a-Paso/BD_proyecto_final/notebook/../data/air_traffic_limpio.csv/0.part']"
      ]
     },
     "execution_count": 261,
     "metadata": {},
     "output_type": "execute_result"
    }
   ],
   "source": [
    "df_1.to_csv('../data/air_traffic_limpio.csv', index=False)"
   ]
  },
  {
   "cell_type": "code",
   "execution_count": 262,
   "metadata": {},
   "outputs": [
    {
     "data": {
      "text/plain": [
       "object    5\n",
       "int64     3\n",
       "dtype: int64"
      ]
     },
     "execution_count": 262,
     "metadata": {},
     "output_type": "execute_result"
    }
   ],
   "source": [
    "#Tipología de las variables existemtes en nuestro dataset\n",
    "df_1.dtypes.value_counts()"
   ]
  },
  {
   "attachments": {},
   "cell_type": "markdown",
   "metadata": {},
   "source": [
    "### PUNTO 2: RESOLVEMOS LAS PREGUNTAS"
   ]
  },
  {
   "cell_type": "code",
   "execution_count": 263,
   "metadata": {},
   "outputs": [
    {
     "name": "stdout",
     "output_type": "stream",
     "text": [
      "El número de compañías diferentes es:  73\n"
     ]
    }
   ],
   "source": [
    "#Vemos cuantas compañías diferentes hay en el dataset\n",
    "compania_unicas= df_1['Operating Airline'].unique().compute()\n",
    "print('El número de compañías diferentes es: ', len(compania_unicas))"
   ]
  },
  {
   "cell_type": "code",
   "execution_count": 264,
   "metadata": {},
   "outputs": [
    {
     "name": "stdout",
     "output_type": "stream",
     "text": [
      "ATA Airlines\n",
      "Air Canada \n",
      "Air China\n",
      "Air France\n",
      "Air New Zealand\n",
      "AirTran Airways\n",
      "Alaska Airlines\n",
      "All Nippon Airways\n",
      "American Airlines\n",
      "American Eagle Airlines\n",
      "Asiana Airlines\n",
      "Atlantic Southeast Airlines\n",
      "BelAir Airlines\n",
      "British Airways\n",
      "Cathay Pacific\n",
      "China Airlines\n",
      "Delta Air Lines\n",
      "EVA Airways\n",
      "Frontier Airlines\n",
      "Hawaiian Airlines\n",
      "Horizon Air \n",
      "Icelandair\n",
      "Independence Air\n",
      "Japan Airlines\n",
      "KLM Royal Dutch Airlines\n",
      "Korean Air Lines\n",
      "Lufthansa German Airlines\n",
      "Mesa Airlines\n",
      "Mexicana Airlines\n",
      "Midwest Airlines\n",
      "Northwest Airlines\n",
      "Philippine Airlines\n",
      "Singapore Airlines\n",
      "SkyWest Airlines\n",
      "Sun Country Airlines\n",
      "TACA\n",
      "US Airways\n",
      "United Airlines\n",
      "United Airlines - Pre 07/01/2013\n",
      "Virgin Atlantic\n",
      "WestJet Airlines\n",
      "Miami Air International\n",
      "Air Canada Jazz\n",
      "Qantas Airways\n",
      "Ameriflight\n",
      "Spirit Airlines\n",
      "Xtra Airways\n",
      "Evergreen International Airlines\n",
      "Aeromexico\n",
      "JetBlue Airways \n",
      "ExpressJet Airlines\n",
      "Southwest Airlines\n",
      "Virgin America\n",
      "Aer Lingus\n",
      "Allegiant Air\n",
      "Jet Airways\n",
      "Emirates \n",
      "Mesaba Airlines\n",
      "World Airways\n",
      "Air Berlin\n",
      "Republic Airlines\n",
      "Swiss International\n",
      "LAN Peru\n",
      "XL Airways France\n",
      "China Eastern\n",
      "SAS Airlines\n",
      "Atlas Air, Inc\n",
      "Compass Airlines\n",
      "Etihad Airways\n",
      "China Southern\n",
      "Turkish Airlines\n",
      "COPA Airlines, Inc.\n",
      "Air India Limited\n"
     ]
    }
   ],
   "source": [
    "#Para ver cuales son usamos el siguiente código\n",
    "for i in range (len(compania_unicas)):\n",
    "    print(compania_unicas[i])"
   ]
  },
  {
   "cell_type": "code",
   "execution_count": 265,
   "metadata": {},
   "outputs": [
    {
     "name": "stdout",
     "output_type": "stream",
     "text": [
      "La media de pasajeros por compañía es:  Operating Airline\n",
      "ATA Airlines          8744.636364\n",
      "Aer Lingus            4407.183673\n",
      "Aeromexico            5463.822222\n",
      "Air Berlin            2320.750000\n",
      "Air Canada           18251.560109\n",
      "                         ...     \n",
      "Virgin Atlantic       9847.104651\n",
      "WestJet Airlines      5338.155340\n",
      "World Airways          261.666667\n",
      "XL Airways France     2223.161290\n",
      "Xtra Airways            73.000000\n",
      "Name: Passenger Count, Length: 73, dtype: float64\n"
     ]
    }
   ],
   "source": [
    "#Observamos cúantos pasajeros tienen de media los vuelos de cada compañía\n",
    "media_pasajeros= df_1.groupby('Operating Airline')['Passenger Count'].mean().compute()\n",
    "print('La media de pasajeros por compañía es: ', media_pasajeros)"
   ]
  },
  {
   "cell_type": "code",
   "execution_count": 266,
   "metadata": {},
   "outputs": [
    {
     "name": "stderr",
     "output_type": "stream",
     "text": [
      "/var/folders/06/2bgv2jcx533g70nn8y0_0z4r0000gn/T/ipykernel_41296/3940489678.py:2: UserWarning: `meta` is not specified, inferred from partial data. Please provide `meta` if the result is unexpected.\n",
      "  Before: .apply(func)\n",
      "  After:  .apply(func, meta={'x': 'f8', 'y': 'f8'}) for dataframe result\n",
      "  or:     .apply(func, meta=('x', 'f8'))            for series result\n",
      "  df_sin_duplicados = df_1.groupby('GEO Region').apply(lambda x: x.loc[x['Passenger Count'].idxmax()])\n"
     ]
    },
    {
     "data": {
      "text/html": [
       "<div>\n",
       "<style scoped>\n",
       "    .dataframe tbody tr th:only-of-type {\n",
       "        vertical-align: middle;\n",
       "    }\n",
       "\n",
       "    .dataframe tbody tr th {\n",
       "        vertical-align: top;\n",
       "    }\n",
       "\n",
       "    .dataframe thead th {\n",
       "        text-align: right;\n",
       "    }\n",
       "</style>\n",
       "<table border=\"1\" class=\"dataframe\">\n",
       "  <thead>\n",
       "    <tr style=\"text-align: right;\">\n",
       "      <th></th>\n",
       "      <th>Activity Period</th>\n",
       "      <th>Operating Airline</th>\n",
       "      <th>GEO Region</th>\n",
       "      <th>Price Category Code</th>\n",
       "      <th>Terminal</th>\n",
       "      <th>Passenger Count</th>\n",
       "      <th>Year</th>\n",
       "      <th>Month</th>\n",
       "    </tr>\n",
       "    <tr>\n",
       "      <th>GEO Region</th>\n",
       "      <th></th>\n",
       "      <th></th>\n",
       "      <th></th>\n",
       "      <th></th>\n",
       "      <th></th>\n",
       "      <th></th>\n",
       "      <th></th>\n",
       "      <th></th>\n",
       "    </tr>\n",
       "  </thead>\n",
       "  <tbody>\n",
       "    <tr>\n",
       "      <th>Asia</th>\n",
       "      <td>200708</td>\n",
       "      <td>United Airlines - Pre 07/01/2013</td>\n",
       "      <td>Asia</td>\n",
       "      <td>Other</td>\n",
       "      <td>International</td>\n",
       "      <td>86398</td>\n",
       "      <td>2007</td>\n",
       "      <td>August</td>\n",
       "    </tr>\n",
       "    <tr>\n",
       "      <th>Australia / Oceania</th>\n",
       "      <td>201501</td>\n",
       "      <td>Air New Zealand</td>\n",
       "      <td>Australia / Oceania</td>\n",
       "      <td>Other</td>\n",
       "      <td>International</td>\n",
       "      <td>12973</td>\n",
       "      <td>2015</td>\n",
       "      <td>January</td>\n",
       "    </tr>\n",
       "    <tr>\n",
       "      <th>Canada</th>\n",
       "      <td>200708</td>\n",
       "      <td>Air Canada</td>\n",
       "      <td>Canada</td>\n",
       "      <td>Other</td>\n",
       "      <td>Terminal 3</td>\n",
       "      <td>39798</td>\n",
       "      <td>2007</td>\n",
       "      <td>August</td>\n",
       "    </tr>\n",
       "    <tr>\n",
       "      <th>Central America</th>\n",
       "      <td>201410</td>\n",
       "      <td>TACA</td>\n",
       "      <td>Central America</td>\n",
       "      <td>Other</td>\n",
       "      <td>International</td>\n",
       "      <td>8970</td>\n",
       "      <td>2014</td>\n",
       "      <td>October</td>\n",
       "    </tr>\n",
       "    <tr>\n",
       "      <th>Europe</th>\n",
       "      <td>201507</td>\n",
       "      <td>United Airlines</td>\n",
       "      <td>Europe</td>\n",
       "      <td>Other</td>\n",
       "      <td>International</td>\n",
       "      <td>48136</td>\n",
       "      <td>2015</td>\n",
       "      <td>July</td>\n",
       "    </tr>\n",
       "    <tr>\n",
       "      <th>Mexico</th>\n",
       "      <td>201407</td>\n",
       "      <td>United Airlines</td>\n",
       "      <td>Mexico</td>\n",
       "      <td>Other</td>\n",
       "      <td>International</td>\n",
       "      <td>29206</td>\n",
       "      <td>2014</td>\n",
       "      <td>July</td>\n",
       "    </tr>\n",
       "    <tr>\n",
       "      <th>Middle East</th>\n",
       "      <td>201507</td>\n",
       "      <td>Emirates</td>\n",
       "      <td>Middle East</td>\n",
       "      <td>Other</td>\n",
       "      <td>International</td>\n",
       "      <td>14769</td>\n",
       "      <td>2015</td>\n",
       "      <td>July</td>\n",
       "    </tr>\n",
       "    <tr>\n",
       "      <th>South America</th>\n",
       "      <td>201101</td>\n",
       "      <td>LAN Peru</td>\n",
       "      <td>South America</td>\n",
       "      <td>Other</td>\n",
       "      <td>International</td>\n",
       "      <td>3685</td>\n",
       "      <td>2011</td>\n",
       "      <td>January</td>\n",
       "    </tr>\n",
       "    <tr>\n",
       "      <th>US</th>\n",
       "      <td>201308</td>\n",
       "      <td>United Airlines</td>\n",
       "      <td>US</td>\n",
       "      <td>Other</td>\n",
       "      <td>Terminal 3</td>\n",
       "      <td>659837</td>\n",
       "      <td>2013</td>\n",
       "      <td>August</td>\n",
       "    </tr>\n",
       "  </tbody>\n",
       "</table>\n",
       "</div>"
      ],
      "text/plain": [
       "                     Activity Period                 Operating Airline  \\\n",
       "GEO Region                                                               \n",
       "Asia                          200708  United Airlines - Pre 07/01/2013   \n",
       "Australia / Oceania           201501                   Air New Zealand   \n",
       "Canada                        200708                       Air Canada    \n",
       "Central America               201410                              TACA   \n",
       "Europe                        201507                   United Airlines   \n",
       "Mexico                        201407                   United Airlines   \n",
       "Middle East                   201507                         Emirates    \n",
       "South America                 201101                          LAN Peru   \n",
       "US                            201308                   United Airlines   \n",
       "\n",
       "                              GEO Region Price Category Code       Terminal  \\\n",
       "GEO Region                                                                    \n",
       "Asia                                Asia               Other  International   \n",
       "Australia / Oceania  Australia / Oceania               Other  International   \n",
       "Canada                            Canada               Other     Terminal 3   \n",
       "Central America          Central America               Other  International   \n",
       "Europe                            Europe               Other  International   \n",
       "Mexico                            Mexico               Other  International   \n",
       "Middle East                  Middle East               Other  International   \n",
       "South America              South America               Other  International   \n",
       "US                                    US               Other     Terminal 3   \n",
       "\n",
       "                     Passenger Count  Year    Month  \n",
       "GEO Region                                           \n",
       "Asia                           86398  2007   August  \n",
       "Australia / Oceania            12973  2015  January  \n",
       "Canada                         39798  2007   August  \n",
       "Central America                 8970  2014  October  \n",
       "Europe                         48136  2015     July  \n",
       "Mexico                         29206  2014     July  \n",
       "Middle East                    14769  2015     July  \n",
       "South America                   3685  2011  January  \n",
       "US                            659837  2013   August  "
      ]
     },
     "execution_count": 266,
     "metadata": {},
     "output_type": "execute_result"
    }
   ],
   "source": [
    "#Eliminamos los registros duplicados por el campo 'GEO Region' y mantenemos aquellos con mayor número de pasajeros\n",
    "df_sin_duplicados = df_1.groupby('GEO Region').apply(lambda x: x.loc[x['Passenger Count'].idxmax()])\n",
    "\n",
    "# Mostrar el nuevo DataFrame resultante\n",
    "df_sin_duplicados.compute()"
   ]
  },
  {
   "cell_type": "code",
   "execution_count": 267,
   "metadata": {},
   "outputs": [
    {
     "data": {
      "text/plain": [
       "['/Users/hectorbernaltrujillo/Documents/informática/Programación python/ff/Ejemplo-Paso-a-Paso/BD_proyecto_final/notebook/../data/resultados_combinados.csv']"
      ]
     },
     "execution_count": 267,
     "metadata": {},
     "output_type": "execute_result"
    }
   ],
   "source": [
    "#Volcaremos los datos anteriores a un CSV es decir sin duplicados y una columna donde pondremos la media de pasajeros por compañía\n",
    "resultados_combinados=dd.merge(df_sin_duplicados, media_pasajeros, on='Operating Airline')\n",
    "#Lo guardamos en un CSV\n",
    "resultados_combinados.to_csv('../data/resultados_combinados.csv', single_file = True)"
   ]
  },
  {
   "attachments": {},
   "cell_type": "markdown",
   "metadata": {},
   "source": [
    "### PUNTO 3"
   ]
  },
  {
   "attachments": {},
   "cell_type": "markdown",
   "metadata": {},
   "source": [
    "Ahora haremos un análisis descriptivo de los datos, y seguiremos usando ``DASK`` "
   ]
  },
  {
   "cell_type": "code",
   "execution_count": 268,
   "metadata": {},
   "outputs": [
    {
     "name": "stdout",
     "output_type": "stream",
     "text": [
      "Media de cada elemento:\n",
      "Activity Period             201044.583963\n",
      "Passenger Count              29345.619006\n",
      "Adjusted Passenger Count     29437.338862\n",
      "Year                          2010.380325\n",
      "dtype: float64\n",
      "\n",
      "Desviación estándar de cada elemento:\n",
      "Activity Period               313.675658\n",
      "Passenger Count             58398.448380\n",
      "Adjusted Passenger Count    58362.879319\n",
      "Year                            3.140994\n",
      "dtype: float64\n"
     ]
    },
    {
     "name": "stderr",
     "output_type": "stream",
     "text": [
      "/Users/hectorbernaltrujillo/opt/anaconda3/lib/python3.9/site-packages/dask/dataframe/core.py:1929: FutureWarning: Dropping of nuisance columns in DataFrame reductions (with 'numeric_only=None') is deprecated; in a future version this will raise TypeError.  Select only valid columns before calling the reduction.\n",
      "  meta = self._meta_nonempty.mean(axis=axis, skipna=skipna)\n",
      "/Users/hectorbernaltrujillo/opt/anaconda3/lib/python3.9/site-packages/dask/dataframe/core.py:2118: FutureWarning: Dropping of nuisance columns in DataFrame reductions (with 'numeric_only=None') is deprecated; in a future version this will raise TypeError.  Select only valid columns before calling the reduction.\n",
      "  meta = self._meta_nonempty.std(axis=axis, skipna=skipna)\n",
      "/Users/hectorbernaltrujillo/opt/anaconda3/lib/python3.9/site-packages/dask/dataframe/core.py:1973: FutureWarning: Dropping of nuisance columns in DataFrame reductions (with 'numeric_only=None') is deprecated; in a future version this will raise TypeError.  Select only valid columns before calling the reduction.\n",
      "  meta = self._meta_nonempty.var(axis=axis, skipna=skipna)\n"
     ]
    }
   ],
   "source": [
    "# Calcular la media de cada elemento del conjunto de datos\n",
    "media = df.mean().compute()\n",
    "# Calcular la desviación estándar de cada elemento del conjunto de datos\n",
    "desviacion_estandar = df.std().compute()\n",
    "\n",
    "# Mostrar los resultados\n",
    "print(\"Media de cada elemento:\")\n",
    "print(media)\n",
    "print(\"\\nDesviación estándar de cada elemento:\")\n",
    "print(desviacion_estandar)"
   ]
  },
  {
   "attachments": {},
   "cell_type": "markdown",
   "metadata": {},
   "source": [
    "#### CONCLUSIONES\n",
    "\n",
    "Como podemos observar los datos anteriores nos brindan infromación sobre la distribución y variabilidad de los datos. Por ejemplo, podemos ver que tras calcular las media de la columna ``Year``podemos ver una cierta concentración alrededor del año 2010. Por otro lado, el cálculo de la desviación estándar de la columna ``Passenger_Count`` nos indica que la cantidad de pasajeros por vuelo puede tener una amplia variabilidad, es decir que puede ocurrir que haya vuelos con pocos pasajeros y vuelos con muchos pasajeros."
   ]
  },
  {
   "cell_type": "code",
   "execution_count": 269,
   "metadata": {},
   "outputs": [
    {
     "data": {
      "text/plain": [
       "US                     5757\n",
       "Asia                   3272\n",
       "Europe                 2078\n",
       "Canada                 1418\n",
       "Mexico                 1115\n",
       "Australia / Oceania     737\n",
       "Central America         272\n",
       "Middle East             214\n",
       "South America            90\n",
       "Name: GEO Region, dtype: int64"
      ]
     },
     "execution_count": 269,
     "metadata": {},
     "output_type": "execute_result"
    }
   ],
   "source": [
    "#Vamos a calcular también la cantidad de datos del mismo tipo en la columna 'GEO Region'\n",
    "df_1['GEO Region'].value_counts().compute()"
   ]
  },
  {
   "attachments": {},
   "cell_type": "markdown",
   "metadata": {},
   "source": [
    "#### Conclusión\n",
    "Vemos que hay una mayor cantidad de vuelos en US, Asia y Europa\n"
   ]
  },
  {
   "attachments": {},
   "cell_type": "markdown",
   "metadata": {},
   "source": [
    "#### MATRIZ DE CORRELACIÓN\n"
   ]
  },
  {
   "cell_type": "code",
   "execution_count": 270,
   "metadata": {},
   "outputs": [
    {
     "data": {
      "text/html": [
       "<div>\n",
       "<style scoped>\n",
       "    .dataframe tbody tr th:only-of-type {\n",
       "        vertical-align: middle;\n",
       "    }\n",
       "\n",
       "    .dataframe tbody tr th {\n",
       "        vertical-align: top;\n",
       "    }\n",
       "\n",
       "    .dataframe thead th {\n",
       "        text-align: right;\n",
       "    }\n",
       "</style>\n",
       "<table border=\"1\" class=\"dataframe\">\n",
       "  <thead>\n",
       "    <tr style=\"text-align: right;\">\n",
       "      <th></th>\n",
       "      <th>Activity Period</th>\n",
       "      <th>Operating Airline</th>\n",
       "      <th>GEO Region</th>\n",
       "      <th>Price Category Code</th>\n",
       "      <th>Terminal</th>\n",
       "      <th>Passenger Count</th>\n",
       "      <th>Year</th>\n",
       "      <th>Month</th>\n",
       "    </tr>\n",
       "  </thead>\n",
       "  <tbody>\n",
       "    <tr>\n",
       "      <th>0</th>\n",
       "      <td>200507</td>\n",
       "      <td>0</td>\n",
       "      <td>0</td>\n",
       "      <td>0</td>\n",
       "      <td>0</td>\n",
       "      <td>27271</td>\n",
       "      <td>2005</td>\n",
       "      <td>0</td>\n",
       "    </tr>\n",
       "    <tr>\n",
       "      <th>1</th>\n",
       "      <td>200507</td>\n",
       "      <td>0</td>\n",
       "      <td>0</td>\n",
       "      <td>0</td>\n",
       "      <td>0</td>\n",
       "      <td>29131</td>\n",
       "      <td>2005</td>\n",
       "      <td>0</td>\n",
       "    </tr>\n",
       "    <tr>\n",
       "      <th>2</th>\n",
       "      <td>200507</td>\n",
       "      <td>0</td>\n",
       "      <td>0</td>\n",
       "      <td>0</td>\n",
       "      <td>0</td>\n",
       "      <td>5415</td>\n",
       "      <td>2005</td>\n",
       "      <td>0</td>\n",
       "    </tr>\n",
       "    <tr>\n",
       "      <th>3</th>\n",
       "      <td>200507</td>\n",
       "      <td>1</td>\n",
       "      <td>1</td>\n",
       "      <td>1</td>\n",
       "      <td>0</td>\n",
       "      <td>35156</td>\n",
       "      <td>2005</td>\n",
       "      <td>0</td>\n",
       "    </tr>\n",
       "    <tr>\n",
       "      <th>4</th>\n",
       "      <td>200507</td>\n",
       "      <td>1</td>\n",
       "      <td>1</td>\n",
       "      <td>1</td>\n",
       "      <td>0</td>\n",
       "      <td>34090</td>\n",
       "      <td>2005</td>\n",
       "      <td>0</td>\n",
       "    </tr>\n",
       "    <tr>\n",
       "      <th>...</th>\n",
       "      <td>...</td>\n",
       "      <td>...</td>\n",
       "      <td>...</td>\n",
       "      <td>...</td>\n",
       "      <td>...</td>\n",
       "      <td>...</td>\n",
       "      <td>...</td>\n",
       "      <td>...</td>\n",
       "    </tr>\n",
       "    <tr>\n",
       "      <th>15002</th>\n",
       "      <td>201603</td>\n",
       "      <td>52</td>\n",
       "      <td>0</td>\n",
       "      <td>0</td>\n",
       "      <td>4</td>\n",
       "      <td>194636</td>\n",
       "      <td>2016</td>\n",
       "      <td>9</td>\n",
       "    </tr>\n",
       "    <tr>\n",
       "      <th>15003</th>\n",
       "      <td>201603</td>\n",
       "      <td>52</td>\n",
       "      <td>5</td>\n",
       "      <td>0</td>\n",
       "      <td>1</td>\n",
       "      <td>4189</td>\n",
       "      <td>2016</td>\n",
       "      <td>9</td>\n",
       "    </tr>\n",
       "    <tr>\n",
       "      <th>15004</th>\n",
       "      <td>201603</td>\n",
       "      <td>52</td>\n",
       "      <td>5</td>\n",
       "      <td>0</td>\n",
       "      <td>4</td>\n",
       "      <td>4693</td>\n",
       "      <td>2016</td>\n",
       "      <td>9</td>\n",
       "    </tr>\n",
       "    <tr>\n",
       "      <th>15005</th>\n",
       "      <td>201603</td>\n",
       "      <td>39</td>\n",
       "      <td>3</td>\n",
       "      <td>1</td>\n",
       "      <td>1</td>\n",
       "      <td>12313</td>\n",
       "      <td>2016</td>\n",
       "      <td>9</td>\n",
       "    </tr>\n",
       "    <tr>\n",
       "      <th>15006</th>\n",
       "      <td>201603</td>\n",
       "      <td>39</td>\n",
       "      <td>3</td>\n",
       "      <td>1</td>\n",
       "      <td>1</td>\n",
       "      <td>10898</td>\n",
       "      <td>2016</td>\n",
       "      <td>9</td>\n",
       "    </tr>\n",
       "  </tbody>\n",
       "</table>\n",
       "<p>14953 rows × 8 columns</p>\n",
       "</div>"
      ],
      "text/plain": [
       "       Activity Period  Operating Airline  GEO Region  Price Category Code  \\\n",
       "0               200507                  0           0                    0   \n",
       "1               200507                  0           0                    0   \n",
       "2               200507                  0           0                    0   \n",
       "3               200507                  1           1                    1   \n",
       "4               200507                  1           1                    1   \n",
       "...                ...                ...         ...                  ...   \n",
       "15002           201603                 52           0                    0   \n",
       "15003           201603                 52           5                    0   \n",
       "15004           201603                 52           5                    0   \n",
       "15005           201603                 39           3                    1   \n",
       "15006           201603                 39           3                    1   \n",
       "\n",
       "       Terminal  Passenger Count  Year  Month  \n",
       "0             0            27271  2005      0  \n",
       "1             0            29131  2005      0  \n",
       "2             0             5415  2005      0  \n",
       "3             0            35156  2005      0  \n",
       "4             0            34090  2005      0  \n",
       "...         ...              ...   ...    ...  \n",
       "15002         4           194636  2016      9  \n",
       "15003         1             4189  2016      9  \n",
       "15004         4             4693  2016      9  \n",
       "15005         1            12313  2016      9  \n",
       "15006         1            10898  2016      9  \n",
       "\n",
       "[14953 rows x 8 columns]"
      ]
     },
     "execution_count": 270,
     "metadata": {},
     "output_type": "execute_result"
    }
   ],
   "source": [
    "#Ahora nos piden contruir una matriz de correlación, por lo que necesitamos que los datos sean númericos. Es por ello por lo que vamos a convertirlos.\n",
    "# Convertir las columnas a categórico\n",
    "df_encoded=df_1.categorize() #Con esto convertimos las columnas a categóricas, es decir, a numéricas.\n",
    "\n",
    "#Asignamos los códigos numericos a las columnas\n",
    "column_names= df_encoded.columns\n",
    "\n",
    "for column_name in column_names:\n",
    "    if df_encoded[column_name].dtype == 'int64':\n",
    "        pass\n",
    "    else:\n",
    "        df_encoded[column_name]=df_encoded[column_name].cat.codes\n",
    "\n",
    "#Mostramos el resultado\n",
    "df_encoded = df_encoded.compute()\n",
    "df_encoded\n",
    "\n"
   ]
  },
  {
   "cell_type": "code",
   "execution_count": 271,
   "metadata": {},
   "outputs": [
    {
     "data": {
      "text/html": [
       "<div>\n",
       "<style scoped>\n",
       "    .dataframe tbody tr th:only-of-type {\n",
       "        vertical-align: middle;\n",
       "    }\n",
       "\n",
       "    .dataframe tbody tr th {\n",
       "        vertical-align: top;\n",
       "    }\n",
       "\n",
       "    .dataframe thead th {\n",
       "        text-align: right;\n",
       "    }\n",
       "</style>\n",
       "<table border=\"1\" class=\"dataframe\">\n",
       "  <thead>\n",
       "    <tr style=\"text-align: right;\">\n",
       "      <th></th>\n",
       "      <th>Activity Period</th>\n",
       "      <th>Operating Airline</th>\n",
       "      <th>GEO Region</th>\n",
       "      <th>Price Category Code</th>\n",
       "      <th>Terminal</th>\n",
       "      <th>Passenger Count</th>\n",
       "      <th>Year</th>\n",
       "      <th>Month</th>\n",
       "    </tr>\n",
       "  </thead>\n",
       "  <tbody>\n",
       "    <tr>\n",
       "      <th>Activity Period</th>\n",
       "      <td>1.000000</td>\n",
       "      <td>0.160053</td>\n",
       "      <td>0.076196</td>\n",
       "      <td>-0.003884</td>\n",
       "      <td>0.104163</td>\n",
       "      <td>0.061160</td>\n",
       "      <td>0.999940</td>\n",
       "      <td>0.098062</td>\n",
       "    </tr>\n",
       "    <tr>\n",
       "      <th>Operating Airline</th>\n",
       "      <td>0.160053</td>\n",
       "      <td>1.000000</td>\n",
       "      <td>0.130238</td>\n",
       "      <td>-0.166091</td>\n",
       "      <td>0.113821</td>\n",
       "      <td>0.093672</td>\n",
       "      <td>0.159843</td>\n",
       "      <td>0.004855</td>\n",
       "    </tr>\n",
       "    <tr>\n",
       "      <th>GEO Region</th>\n",
       "      <td>0.076196</td>\n",
       "      <td>0.130238</td>\n",
       "      <td>1.000000</td>\n",
       "      <td>0.281300</td>\n",
       "      <td>0.064296</td>\n",
       "      <td>-0.317739</td>\n",
       "      <td>0.076181</td>\n",
       "      <td>0.007794</td>\n",
       "    </tr>\n",
       "    <tr>\n",
       "      <th>Price Category Code</th>\n",
       "      <td>-0.003884</td>\n",
       "      <td>-0.166091</td>\n",
       "      <td>0.281300</td>\n",
       "      <td>1.000000</td>\n",
       "      <td>0.097450</td>\n",
       "      <td>-0.068560</td>\n",
       "      <td>-0.003816</td>\n",
       "      <td>0.004210</td>\n",
       "    </tr>\n",
       "    <tr>\n",
       "      <th>Terminal</th>\n",
       "      <td>0.104163</td>\n",
       "      <td>0.113821</td>\n",
       "      <td>0.064296</td>\n",
       "      <td>0.097450</td>\n",
       "      <td>1.000000</td>\n",
       "      <td>0.260837</td>\n",
       "      <td>0.104015</td>\n",
       "      <td>0.000762</td>\n",
       "    </tr>\n",
       "    <tr>\n",
       "      <th>Passenger Count</th>\n",
       "      <td>0.061160</td>\n",
       "      <td>0.093672</td>\n",
       "      <td>-0.317739</td>\n",
       "      <td>-0.068560</td>\n",
       "      <td>0.260837</td>\n",
       "      <td>1.000000</td>\n",
       "      <td>0.060917</td>\n",
       "      <td>-0.012845</td>\n",
       "    </tr>\n",
       "    <tr>\n",
       "      <th>Year</th>\n",
       "      <td>0.999940</td>\n",
       "      <td>0.159843</td>\n",
       "      <td>0.076181</td>\n",
       "      <td>-0.003816</td>\n",
       "      <td>0.104015</td>\n",
       "      <td>0.060917</td>\n",
       "      <td>1.000000</td>\n",
       "      <td>0.103449</td>\n",
       "    </tr>\n",
       "    <tr>\n",
       "      <th>Month</th>\n",
       "      <td>0.098062</td>\n",
       "      <td>0.004855</td>\n",
       "      <td>0.007794</td>\n",
       "      <td>0.004210</td>\n",
       "      <td>0.000762</td>\n",
       "      <td>-0.012845</td>\n",
       "      <td>0.103449</td>\n",
       "      <td>1.000000</td>\n",
       "    </tr>\n",
       "  </tbody>\n",
       "</table>\n",
       "</div>"
      ],
      "text/plain": [
       "                     Activity Period  Operating Airline  GEO Region  \\\n",
       "Activity Period             1.000000           0.160053    0.076196   \n",
       "Operating Airline           0.160053           1.000000    0.130238   \n",
       "GEO Region                  0.076196           0.130238    1.000000   \n",
       "Price Category Code        -0.003884          -0.166091    0.281300   \n",
       "Terminal                    0.104163           0.113821    0.064296   \n",
       "Passenger Count             0.061160           0.093672   -0.317739   \n",
       "Year                        0.999940           0.159843    0.076181   \n",
       "Month                       0.098062           0.004855    0.007794   \n",
       "\n",
       "                     Price Category Code  Terminal  Passenger Count      Year  \\\n",
       "Activity Period                -0.003884  0.104163         0.061160  0.999940   \n",
       "Operating Airline              -0.166091  0.113821         0.093672  0.159843   \n",
       "GEO Region                      0.281300  0.064296        -0.317739  0.076181   \n",
       "Price Category Code             1.000000  0.097450        -0.068560 -0.003816   \n",
       "Terminal                        0.097450  1.000000         0.260837  0.104015   \n",
       "Passenger Count                -0.068560  0.260837         1.000000  0.060917   \n",
       "Year                           -0.003816  0.104015         0.060917  1.000000   \n",
       "Month                           0.004210  0.000762        -0.012845  0.103449   \n",
       "\n",
       "                        Month  \n",
       "Activity Period      0.098062  \n",
       "Operating Airline    0.004855  \n",
       "GEO Region           0.007794  \n",
       "Price Category Code  0.004210  \n",
       "Terminal             0.000762  \n",
       "Passenger Count     -0.012845  \n",
       "Year                 0.103449  \n",
       "Month                1.000000  "
      ]
     },
     "execution_count": 271,
     "metadata": {},
     "output_type": "execute_result"
    }
   ],
   "source": [
    "#Cogemos las columnas numéricas para calcular la matriz de correlación\n",
    "columnas_numericas= df_encoded.select_dtypes(include=['int64','float64', 'int8']).columns\n",
    "matriz_correlacion= df_encoded[columnas_numericas].corr(method='pearson')\n",
    "matriz_correlacion"
   ]
  },
  {
   "cell_type": "code",
   "execution_count": 272,
   "metadata": {},
   "outputs": [
    {
     "data": {
      "image/png": "[encoded data removed]",
      "text/plain": [
       "<Figure size 720x576 with 2 Axes>"
      ]
     },
     "metadata": {
      "needs_background": "light"
     },
     "output_type": "display_data"
    },
    {
     "data": {
      "text/plain": [
       "<Figure size 432x288 with 0 Axes>"
      ]
     },
     "metadata": {},
     "output_type": "display_data"
    }
   ],
   "source": [
    "#Lo visualizamos haciendo uso de la librería seaborn y matplotlib\n",
    "import seaborn as sns\n",
    "import matplotlib.pyplot as plt\n",
    "\n",
    "# Tomamos las columnas numéricas\n",
    "columnas_numericas = df_encoded.select_dtypes(include=['float64', 'int64' , 'int8']).columns\n",
    "\n",
    "# Calcular la matriz de correlación\n",
    "correlation_matrix = df_encoded[columnas_numericas].corr()\n",
    "# Crear un mapa de calor de la matriz de correlación\n",
    "plt.figure(figsize=(10, 8))\n",
    "sns.heatmap(correlation_matrix, annot=True, cmap='coolwarm', square=True)\n",
    "plt.title('Matriz de Correlación')\n",
    "plt.show()\n",
    "plt.savefig('../images/matriz_correlacion.png')\n",
    "\n"
   ]
  },
  {
   "attachments": {},
   "cell_type": "markdown",
   "metadata": {},
   "source": [
    "#### CONCLUSIONES:\n",
    "\n",
    "La matriz de correlación proporciona información sobre las relaciones lineales entre las variables en el dataset de vuelos. Aquí hay algunas conclusiones que se pueden extraer de la matriz:\n",
    "\n",
    "-``Activity Period``: La variable de 'Activity Period' tiene una correlación positiva moderada con las variables de perating Airline, GEO Region, Terminal, Passenger Count, y Year. Esto sugiere que estos factores tienden a variar en conjunto con el periodo de actividadde los vuelos.\n",
    "\n",
    "-``Operating Airline``: La variable de aerolínea operativa tiene una correlación débil positiva con la Activity period y una correlación débil negativa con Price Category. Esto indica que ciertas aerolíneas pueden tener una mayor presencia en ciertos períodos de actividad y pueden tener diferentes niveles de precios.\n",
    "\n",
    "-``GEO Region``: La variable 'GEO Region' tiene una correlación débil positiva con Price Category y una correlación débil negativa con Passenger Counts. Esto sugiere que las regiones geográficas pueden influir ligeramente en los precios y en la demanda de pasajeros.\n",
    "\n",
    "-``Price Category``: La variable de categoría de precio tiene una correlación débil positiva con GEO Region y una correlación débil negativa con  Operating Airline. Esto indica que las categorías de precios pueden estar relacionadas con la ubicación geográfica y las aerolíneas específicas.\n",
    "\n",
    "-``Terminal``: La variable de terminal tiene una correlación débil positiva con la actividad period y una correlación débil positiva con  Operating Airline. Esto sugiere que los terminales pueden estar asociados con ciertos períodos de actividad y pueden acomodar diferentes volúmenes de pasajeros.\n",
    "\n",
    "-``Passenger Count``: La variable de recuento de pasajeros tiene una correlación débil positiva con el Terminal y una correlación débil negativa con la GEO Region. Esto indica que el recuento de pasajeros puede estar influenciado por el terminal utilizado y la ubicación geográfica del vuelo.\n",
    "\n",
    "En resumen, la matriz de correlación proporciona información sobre las relaciones entre las variables del dataset de vuelos. Sin embargo, es importante tener en cuenta que la correlación no implica causalidad, y es necesario realizar un análisis más detallado, que lo haremos a continuación. "
   ]
  },
  {
   "cell_type": "code",
   "execution_count": 273,
   "metadata": {},
   "outputs": [
    {
     "data": {
      "image/png": "[encoded data removed]",
      "text/plain": [
       "<Figure size 432x288 with 1 Axes>"
      ]
     },
     "metadata": {
      "needs_background": "light"
     },
     "output_type": "display_data"
    },
    {
     "data": {
      "image/png": "[encoded data removed]",
      "text/plain": [
       "<Figure size 432x288 with 1 Axes>"
      ]
     },
     "metadata": {
      "needs_background": "light"
     },
     "output_type": "display_data"
    },
    {
     "data": {
      "image/png": "[encoded data removed]",
      "text/plain": [
       "<Figure size 432x288 with 1 Axes>"
      ]
     },
     "metadata": {
      "needs_background": "light"
     },
     "output_type": "display_data"
    },
    {
     "data": {
      "image/png": "[encoded data removed]",
      "text/plain": [
       "<Figure size 432x288 with 1 Axes>"
      ]
     },
     "metadata": {
      "needs_background": "light"
     },
     "output_type": "display_data"
    },
    {
     "data": {
      "image/png": "[encoded data removed]",
      "text/plain": [
       "<Figure size 432x288 with 1 Axes>"
      ]
     },
     "metadata": {
      "needs_background": "light"
     },
     "output_type": "display_data"
    },
    {
     "data": {
      "image/png": "[encoded data removed]",
      "text/plain": [
       "<Figure size 432x288 with 1 Axes>"
      ]
     },
     "metadata": {
      "needs_background": "light"
     },
     "output_type": "display_data"
    },
    {
     "data": {
      "image/png": "[encoded data removed]",
      "text/plain": [
       "<Figure size 432x288 with 1 Axes>"
      ]
     },
     "metadata": {
      "needs_background": "light"
     },
     "output_type": "display_data"
    },
    {
     "data": {
      "text/plain": [
       "<Figure size 432x288 with 0 Axes>"
      ]
     },
     "metadata": {},
     "output_type": "display_data"
    }
   ],
   "source": [
    "#Ahora vamos hacer un análisis para saber como las columnas estan relacionadas con la columna 'Passenger Count' (PUES ES LA QUE LUEGO QUIERO PREDECIR)\n",
    "columna_referencia= 'Passenger Count'\n",
    "# Obtener los datos de la columna de referencia\n",
    "data_referencia = df_1[columna_referencia].compute()\n",
    "\n",
    "# Obtener las columnas restantes para el análisis\n",
    "columnas_analisis = df_1.columns[df_1.columns != columna_referencia]\n",
    "\n",
    "# Crear un gráfico de dispersión para cada columna\n",
    "for columna in columnas_analisis:\n",
    "    # Obtener los datos de la columna actual\n",
    "    data_actual = df_1[columna].compute()\n",
    "    \n",
    "    # Crear el gráfico de dispersión\n",
    "    plt.scatter(data_actual, data_referencia)\n",
    "    plt.xlabel(columna)\n",
    "    plt.ylabel(columna_referencia)\n",
    "    plt.title('Relación entre ' + columna + ' y ' + columna_referencia)\n",
    "    plt.show()\n",
    "    plt.savefig('../images/relacion_' + columna + '.png')"
   ]
  },
  {
   "attachments": {},
   "cell_type": "markdown",
   "metadata": {},
   "source": [
    "#### Conclusión\n",
    "Tras analizar las gráficas anteriores vemos que no hay una relación lineal entre las variables y la variables objetivo, lo que quiere decir que no podemos usar un modelo de regresión lineal. Es por ello que usaremos un modelo de regresión logística como el modelo ``Decision Tree Regressor`` o el modelo de clasificación como ``Random Forest Regressor``."
   ]
  },
  {
   "attachments": {},
   "cell_type": "markdown",
   "metadata": {},
   "source": [
    "### DECISION TREE REGRESSOR (modelo de regresión logística)"
   ]
  },
  {
   "attachments": {},
   "cell_type": "markdown",
   "metadata": {},
   "source": [
    "PARA PROCEDER A LA PREDICCIÓN DE LA VARIABLE ``PASSANGER_COUNT`` EMPEZARÉ DIVIDIENDO LA VARIABLE EN SUBGRUPOS DE POCOS NORMAL Y ALTOS PASAJEROS EN FUNCIÓN DE LA MEDIA Y DESVIACIÓN TÍPICA."
   ]
  },
  {
   "cell_type": "code",
   "execution_count": 274,
   "metadata": {},
   "outputs": [
    {
     "name": "stdout",
     "output_type": "stream",
     "text": [
      "Features:  ['Activity Period', 'Operating Airline', 'GEO Region', 'Price Category Code', 'Terminal', 'Year', 'Month']\n",
      "Target:  Passenger Count\n"
     ]
    }
   ],
   "source": [
    "#Generamos la lista de features y la variable target\n",
    "target = 'Passenger Count'\n",
    "features = [x for x in df_1.columns if x != target]\n",
    "\n",
    "print('Features: ', features) \n",
    "print('Target: ', target)"
   ]
  },
  {
   "cell_type": "code",
   "execution_count": 275,
   "metadata": {},
   "outputs": [
    {
     "data": {
      "text/plain": [
       "DecisionTreeRegressor(max_depth=17, random_state=100)"
      ]
     },
     "execution_count": 275,
     "metadata": {},
     "output_type": "execute_result"
    }
   ],
   "source": [
    "#Importamos el algoritmo de árboles de decisión\n",
    "from sklearn.tree import DecisionTreeRegressor\n",
    "\n",
    "#Asignamos el algoritmo e indicamos la profundidad máxima del árbol (con un número rotundamente grande para sobreajustar)\n",
    "arbol_importancia= DecisionTreeRegressor(max_depth=len(features)+10, random_state=100)\n",
    "\n",
    "#Entrenamos un árbol con todo el conjunto de datos \n",
    "arbol_importancia.fit(X=df_encoded[features], y=df_encoded[target])"
   ]
  },
  {
   "cell_type": "code",
   "execution_count": 276,
   "metadata": {},
   "outputs": [
    {
     "name": "stdout",
     "output_type": "stream",
     "text": [
      "Mean Absolute Error: 10460.35345071828\n",
      "Mean Squared Error: 1417477629.2005537\n",
      "Root Mean Squared Error: 37649.40410153331\n",
      "Mean Absolute Percentage Error: 60.23241084299349\n",
      "R^2: 0.5843357804621849\n"
     ]
    }
   ],
   "source": [
    "#Comprobamos que R^2 obtenemos. Lo deseable es que sea cercano a 1\n",
    "import numpy as np\n",
    "y_pred_arbol= arbol_importancia.predict(X=df_encoded[features])\n",
    "\n",
    "from sklearn.metrics import mean_absolute_error\n",
    "from sklearn.metrics import mean_squared_error\n",
    "from sklearn.metrics import r2_score\n",
    "from sklearn.metrics import mean_absolute_percentage_error\n",
    "\n",
    "#Métricas para evaluar la calidad del modelo\n",
    "print('Mean Absolute Error:', mean_absolute_error(df_encoded[target], y_pred_arbol))\n",
    "print('Mean Squared Error:', mean_squared_error(df_encoded[target], y_pred_arbol))\n",
    "print('Root Mean Squared Error:', np.sqrt(mean_squared_error(df_encoded[target], y_pred_arbol)))\n",
    "print('Mean Absolute Percentage Error:', mean_absolute_percentage_error(df_encoded[target], y_pred_arbol))\n",
    "print('R^2:', r2_score(df_encoded[target], y_pred_arbol))\n"
   ]
  },
  {
   "cell_type": "code",
   "execution_count": 277,
   "metadata": {},
   "outputs": [
    {
     "data": {
      "text/plain": [
       "array([0.11991912, 0.25560872, 0.27773753, 0.01619387, 0.30732365,\n",
       "       0.00884498, 0.01437212])"
      ]
     },
     "execution_count": 277,
     "metadata": {},
     "output_type": "execute_result"
    }
   ],
   "source": [
    "#Vamos a ver la importancia de cada variable en el arbol ajustado (Gini importance))\n",
    "arbol_importancia.feature_importances_"
   ]
  },
  {
   "cell_type": "code",
   "execution_count": 286,
   "metadata": {},
   "outputs": [
    {
     "data": {
      "text/html": [
       "<div>\n",
       "<style scoped>\n",
       "    .dataframe tbody tr th:only-of-type {\n",
       "        vertical-align: middle;\n",
       "    }\n",
       "\n",
       "    .dataframe tbody tr th {\n",
       "        vertical-align: top;\n",
       "    }\n",
       "\n",
       "    .dataframe thead th {\n",
       "        text-align: right;\n",
       "    }\n",
       "</style>\n",
       "<table border=\"1\" class=\"dataframe\">\n",
       "  <thead>\n",
       "    <tr style=\"text-align: right;\">\n",
       "      <th></th>\n",
       "      <th>feature</th>\n",
       "      <th>importance</th>\n",
       "    </tr>\n",
       "  </thead>\n",
       "  <tbody>\n",
       "    <tr>\n",
       "      <th>4</th>\n",
       "      <td>Terminal</td>\n",
       "      <td>0.307324</td>\n",
       "    </tr>\n",
       "    <tr>\n",
       "      <th>2</th>\n",
       "      <td>GEO Region</td>\n",
       "      <td>0.277738</td>\n",
       "    </tr>\n",
       "    <tr>\n",
       "      <th>1</th>\n",
       "      <td>Operating Airline</td>\n",
       "      <td>0.255609</td>\n",
       "    </tr>\n",
       "    <tr>\n",
       "      <th>0</th>\n",
       "      <td>Activity Period</td>\n",
       "      <td>0.119919</td>\n",
       "    </tr>\n",
       "    <tr>\n",
       "      <th>3</th>\n",
       "      <td>Price Category Code</td>\n",
       "      <td>0.016194</td>\n",
       "    </tr>\n",
       "    <tr>\n",
       "      <th>6</th>\n",
       "      <td>Month</td>\n",
       "      <td>0.014372</td>\n",
       "    </tr>\n",
       "    <tr>\n",
       "      <th>5</th>\n",
       "      <td>Year</td>\n",
       "      <td>0.008845</td>\n",
       "    </tr>\n",
       "  </tbody>\n",
       "</table>\n",
       "</div>"
      ],
      "text/plain": [
       "               feature  importance\n",
       "4             Terminal    0.307324\n",
       "2           GEO Region    0.277738\n",
       "1    Operating Airline    0.255609\n",
       "0      Activity Period    0.119919\n",
       "3  Price Category Code    0.016194\n",
       "6                Month    0.014372\n",
       "5                 Year    0.008845"
      ]
     },
     "execution_count": 286,
     "metadata": {},
     "output_type": "execute_result"
    }
   ],
   "source": [
    "#Creamos un DataFrame con los datos de importancia\n",
    "import pandas as pd\n",
    "importancia = pd.DataFrame({'feature': features, 'importance': arbol_importancia.feature_importances_})\n",
    "#Ordenamos los datos de mayor a menor\n",
    "importancia.sort_values('importance', ascending=False)"
   ]
  },
  {
   "cell_type": "code",
   "execution_count": 287,
   "metadata": {},
   "outputs": [],
   "source": [
    "df_copy = df_encoded.copy()"
   ]
  },
  {
   "cell_type": "code",
   "execution_count": 289,
   "metadata": {},
   "outputs": [
    {
     "data": {
      "text/html": [
       "<div>\n",
       "<style scoped>\n",
       "    .dataframe tbody tr th:only-of-type {\n",
       "        vertical-align: middle;\n",
       "    }\n",
       "\n",
       "    .dataframe tbody tr th {\n",
       "        vertical-align: top;\n",
       "    }\n",
       "\n",
       "    .dataframe thead th {\n",
       "        text-align: right;\n",
       "    }\n",
       "</style>\n",
       "<table border=\"1\" class=\"dataframe\">\n",
       "  <thead>\n",
       "    <tr style=\"text-align: right;\">\n",
       "      <th></th>\n",
       "      <th>Activity Period</th>\n",
       "      <th>Operating Airline</th>\n",
       "      <th>GEO Region</th>\n",
       "      <th>Price Category Code</th>\n",
       "      <th>Terminal</th>\n",
       "      <th>Year</th>\n",
       "      <th>Month</th>\n",
       "      <th>Categoria</th>\n",
       "    </tr>\n",
       "  </thead>\n",
       "  <tbody>\n",
       "    <tr>\n",
       "      <th>0</th>\n",
       "      <td>200507</td>\n",
       "      <td>0</td>\n",
       "      <td>0</td>\n",
       "      <td>0</td>\n",
       "      <td>0</td>\n",
       "      <td>2005</td>\n",
       "      <td>0</td>\n",
       "      <td>3.0</td>\n",
       "    </tr>\n",
       "    <tr>\n",
       "      <th>1</th>\n",
       "      <td>200507</td>\n",
       "      <td>0</td>\n",
       "      <td>0</td>\n",
       "      <td>0</td>\n",
       "      <td>0</td>\n",
       "      <td>2005</td>\n",
       "      <td>0</td>\n",
       "      <td>3.0</td>\n",
       "    </tr>\n",
       "    <tr>\n",
       "      <th>2</th>\n",
       "      <td>200507</td>\n",
       "      <td>0</td>\n",
       "      <td>0</td>\n",
       "      <td>0</td>\n",
       "      <td>0</td>\n",
       "      <td>2005</td>\n",
       "      <td>0</td>\n",
       "      <td>1.0</td>\n",
       "    </tr>\n",
       "    <tr>\n",
       "      <th>3</th>\n",
       "      <td>200507</td>\n",
       "      <td>1</td>\n",
       "      <td>1</td>\n",
       "      <td>1</td>\n",
       "      <td>0</td>\n",
       "      <td>2005</td>\n",
       "      <td>0</td>\n",
       "      <td>3.0</td>\n",
       "    </tr>\n",
       "    <tr>\n",
       "      <th>4</th>\n",
       "      <td>200507</td>\n",
       "      <td>1</td>\n",
       "      <td>1</td>\n",
       "      <td>1</td>\n",
       "      <td>0</td>\n",
       "      <td>2005</td>\n",
       "      <td>0</td>\n",
       "      <td>3.0</td>\n",
       "    </tr>\n",
       "    <tr>\n",
       "      <th>...</th>\n",
       "      <td>...</td>\n",
       "      <td>...</td>\n",
       "      <td>...</td>\n",
       "      <td>...</td>\n",
       "      <td>...</td>\n",
       "      <td>...</td>\n",
       "      <td>...</td>\n",
       "      <td>...</td>\n",
       "    </tr>\n",
       "    <tr>\n",
       "      <th>145</th>\n",
       "      <td>200508</td>\n",
       "      <td>11</td>\n",
       "      <td>0</td>\n",
       "      <td>1</td>\n",
       "      <td>0</td>\n",
       "      <td>2005</td>\n",
       "      <td>1</td>\n",
       "      <td>1.0</td>\n",
       "    </tr>\n",
       "    <tr>\n",
       "      <th>146</th>\n",
       "      <td>200508</td>\n",
       "      <td>12</td>\n",
       "      <td>3</td>\n",
       "      <td>1</td>\n",
       "      <td>1</td>\n",
       "      <td>2005</td>\n",
       "      <td>1</td>\n",
       "      <td>1.0</td>\n",
       "    </tr>\n",
       "    <tr>\n",
       "      <th>147</th>\n",
       "      <td>200508</td>\n",
       "      <td>12</td>\n",
       "      <td>3</td>\n",
       "      <td>1</td>\n",
       "      <td>1</td>\n",
       "      <td>2005</td>\n",
       "      <td>1</td>\n",
       "      <td>1.0</td>\n",
       "    </tr>\n",
       "    <tr>\n",
       "      <th>149</th>\n",
       "      <td>200508</td>\n",
       "      <td>13</td>\n",
       "      <td>3</td>\n",
       "      <td>1</td>\n",
       "      <td>1</td>\n",
       "      <td>2005</td>\n",
       "      <td>1</td>\n",
       "      <td>3.0</td>\n",
       "    </tr>\n",
       "    <tr>\n",
       "      <th>150</th>\n",
       "      <td>200508</td>\n",
       "      <td>13</td>\n",
       "      <td>3</td>\n",
       "      <td>1</td>\n",
       "      <td>1</td>\n",
       "      <td>2005</td>\n",
       "      <td>1</td>\n",
       "      <td>3.0</td>\n",
       "    </tr>\n",
       "  </tbody>\n",
       "</table>\n",
       "<p>150 rows × 8 columns</p>\n",
       "</div>"
      ],
      "text/plain": [
       "     Activity Period  Operating Airline  GEO Region  Price Category Code  \\\n",
       "0             200507                  0           0                    0   \n",
       "1             200507                  0           0                    0   \n",
       "2             200507                  0           0                    0   \n",
       "3             200507                  1           1                    1   \n",
       "4             200507                  1           1                    1   \n",
       "..               ...                ...         ...                  ...   \n",
       "145           200508                 11           0                    1   \n",
       "146           200508                 12           3                    1   \n",
       "147           200508                 12           3                    1   \n",
       "149           200508                 13           3                    1   \n",
       "150           200508                 13           3                    1   \n",
       "\n",
       "     Terminal  Year  Month  Categoria  \n",
       "0           0  2005      0        3.0  \n",
       "1           0  2005      0        3.0  \n",
       "2           0  2005      0        1.0  \n",
       "3           0  2005      0        3.0  \n",
       "4           0  2005      0        3.0  \n",
       "..        ...   ...    ...        ...  \n",
       "145         0  2005      1        1.0  \n",
       "146         1  2005      1        1.0  \n",
       "147         1  2005      1        1.0  \n",
       "149         1  2005      1        3.0  \n",
       "150         1  2005      1        3.0  \n",
       "\n",
       "[150 rows x 8 columns]"
      ]
     },
     "execution_count": 289,
     "metadata": {},
     "output_type": "execute_result"
    }
   ],
   "source": [
    "import dask.dataframe as dd \n",
    "import numpy as np\n",
    "\n",
    "#Calculamos los percentiles de la columna 'Passenger Count'\n",
    "percentiles = df_copy['Passenger Count'].quantile([0.33, 0.66])\n",
    "\n",
    "#Creamos una función para asignar los valores a cada categoría\n",
    "def asignar_categorias(valor):\n",
    "    if valor < percentiles[0.33]:\n",
    "        return 1\n",
    "    elif valor < percentiles[0.66]:\n",
    "        return 2\n",
    "    else:\n",
    "        return 3\n",
    "    \n",
    "#Creamos una nueva columna con los valores asignados\n",
    "df_copy['Categoria']=np.nan #Creamos una columna vacía\n",
    "#df_copy.loc[149,'Escenario'] = assign_scenario(df_copy.loc[149,'Passenger Count'])\n",
    "for i in range(len(df_copy)): #Recorremos el DataFrame\n",
    "    if i in df_copy.index: #Si el índice está en el DataFrame\n",
    "        df_copy.loc[i,'Categoria'] = asignar_categorias(df_copy.loc[i,'Passenger Count']) #Asignamos el valor a la nueva columna\n",
    "#df_copy.loc[0,'Escenario'] = 1\n",
    "# Eliminar la columna \"Passenger Count\"\n",
    "df_copy = df_copy.drop(['Passenger Count'], axis='columns') \n",
    "\n",
    "# Visualizar las primeras filas del DataFrame resultante\n",
    "df_copy.head(150)\n"
   ]
  },
  {
   "cell_type": "code",
   "execution_count": 290,
   "metadata": {},
   "outputs": [
    {
     "data": {
      "text/html": [
       "<div>\n",
       "<style scoped>\n",
       "    .dataframe tbody tr th:only-of-type {\n",
       "        vertical-align: middle;\n",
       "    }\n",
       "\n",
       "    .dataframe tbody tr th {\n",
       "        vertical-align: top;\n",
       "    }\n",
       "\n",
       "    .dataframe thead th {\n",
       "        text-align: right;\n",
       "    }\n",
       "</style>\n",
       "<table border=\"1\" class=\"dataframe\">\n",
       "  <thead>\n",
       "    <tr style=\"text-align: right;\">\n",
       "      <th></th>\n",
       "      <th>Activity Period</th>\n",
       "      <th>Operating Airline</th>\n",
       "      <th>GEO Region</th>\n",
       "      <th>Price Category Code</th>\n",
       "      <th>Terminal</th>\n",
       "      <th>Year</th>\n",
       "      <th>Month</th>\n",
       "      <th>Categoria</th>\n",
       "    </tr>\n",
       "  </thead>\n",
       "  <tbody>\n",
       "    <tr>\n",
       "      <th>count</th>\n",
       "      <td>14953.000000</td>\n",
       "      <td>14953.000000</td>\n",
       "      <td>14953.000000</td>\n",
       "      <td>14953.000000</td>\n",
       "      <td>14953.000000</td>\n",
       "      <td>14953.000000</td>\n",
       "      <td>14953.000000</td>\n",
       "      <td>14899.000000</td>\n",
       "    </tr>\n",
       "    <tr>\n",
       "      <th>mean</th>\n",
       "      <td>201044.583963</td>\n",
       "      <td>28.599077</td>\n",
       "      <td>1.776834</td>\n",
       "      <td>0.874005</td>\n",
       "      <td>1.000067</td>\n",
       "      <td>2010.380325</td>\n",
       "      <td>5.401859</td>\n",
       "      <td>2.010538</td>\n",
       "    </tr>\n",
       "    <tr>\n",
       "      <th>std</th>\n",
       "      <td>313.675658</td>\n",
       "      <td>16.533066</td>\n",
       "      <td>1.859575</td>\n",
       "      <td>0.331855</td>\n",
       "      <td>0.753048</td>\n",
       "      <td>3.140994</td>\n",
       "      <td>3.451473</td>\n",
       "      <td>0.818194</td>\n",
       "    </tr>\n",
       "    <tr>\n",
       "      <th>min</th>\n",
       "      <td>200507.000000</td>\n",
       "      <td>0.000000</td>\n",
       "      <td>0.000000</td>\n",
       "      <td>0.000000</td>\n",
       "      <td>0.000000</td>\n",
       "      <td>2005.000000</td>\n",
       "      <td>0.000000</td>\n",
       "      <td>1.000000</td>\n",
       "    </tr>\n",
       "    <tr>\n",
       "      <th>25%</th>\n",
       "      <td>200803.000000</td>\n",
       "      <td>15.000000</td>\n",
       "      <td>0.000000</td>\n",
       "      <td>1.000000</td>\n",
       "      <td>1.000000</td>\n",
       "      <td>2008.000000</td>\n",
       "      <td>2.000000</td>\n",
       "      <td>1.000000</td>\n",
       "    </tr>\n",
       "    <tr>\n",
       "      <th>50%</th>\n",
       "      <td>201011.000000</td>\n",
       "      <td>33.000000</td>\n",
       "      <td>2.000000</td>\n",
       "      <td>1.000000</td>\n",
       "      <td>1.000000</td>\n",
       "      <td>2010.000000</td>\n",
       "      <td>5.000000</td>\n",
       "      <td>2.000000</td>\n",
       "    </tr>\n",
       "    <tr>\n",
       "      <th>75%</th>\n",
       "      <td>201308.000000</td>\n",
       "      <td>38.000000</td>\n",
       "      <td>3.000000</td>\n",
       "      <td>1.000000</td>\n",
       "      <td>1.000000</td>\n",
       "      <td>2013.000000</td>\n",
       "      <td>8.000000</td>\n",
       "      <td>3.000000</td>\n",
       "    </tr>\n",
       "    <tr>\n",
       "      <th>max</th>\n",
       "      <td>201603.000000</td>\n",
       "      <td>72.000000</td>\n",
       "      <td>8.000000</td>\n",
       "      <td>1.000000</td>\n",
       "      <td>4.000000</td>\n",
       "      <td>2016.000000</td>\n",
       "      <td>11.000000</td>\n",
       "      <td>3.000000</td>\n",
       "    </tr>\n",
       "  </tbody>\n",
       "</table>\n",
       "</div>"
      ],
      "text/plain": [
       "       Activity Period  Operating Airline    GEO Region  Price Category Code  \\\n",
       "count     14953.000000       14953.000000  14953.000000         14953.000000   \n",
       "mean     201044.583963          28.599077      1.776834             0.874005   \n",
       "std         313.675658          16.533066      1.859575             0.331855   \n",
       "min      200507.000000           0.000000      0.000000             0.000000   \n",
       "25%      200803.000000          15.000000      0.000000             1.000000   \n",
       "50%      201011.000000          33.000000      2.000000             1.000000   \n",
       "75%      201308.000000          38.000000      3.000000             1.000000   \n",
       "max      201603.000000          72.000000      8.000000             1.000000   \n",
       "\n",
       "           Terminal          Year         Month     Categoria  \n",
       "count  14953.000000  14953.000000  14953.000000  14899.000000  \n",
       "mean       1.000067   2010.380325      5.401859      2.010538  \n",
       "std        0.753048      3.140994      3.451473      0.818194  \n",
       "min        0.000000   2005.000000      0.000000      1.000000  \n",
       "25%        1.000000   2008.000000      2.000000      1.000000  \n",
       "50%        1.000000   2010.000000      5.000000      2.000000  \n",
       "75%        1.000000   2013.000000      8.000000      3.000000  \n",
       "max        4.000000   2016.000000     11.000000      3.000000  "
      ]
     },
     "execution_count": 290,
     "metadata": {},
     "output_type": "execute_result"
    }
   ],
   "source": [
    "df_copy.describe()"
   ]
  },
  {
   "cell_type": "code",
   "execution_count": 292,
   "metadata": {},
   "outputs": [
    {
     "data": {
      "text/plain": [
       "Activity Period         0\n",
       "Operating Airline       0\n",
       "GEO Region              0\n",
       "Price Category Code     0\n",
       "Terminal                0\n",
       "Year                    0\n",
       "Month                   0\n",
       "Categoria              54\n",
       "dtype: int64"
      ]
     },
     "execution_count": 292,
     "metadata": {},
     "output_type": "execute_result"
    }
   ],
   "source": [
    "df_copy.isnull().sum()"
   ]
  },
  {
   "cell_type": "code",
   "execution_count": 294,
   "metadata": {},
   "outputs": [
    {
     "data": {
      "text/plain": [
       "Activity Period        0\n",
       "Operating Airline      0\n",
       "GEO Region             0\n",
       "Price Category Code    0\n",
       "Terminal               0\n",
       "Year                   0\n",
       "Month                  0\n",
       "Categoria              0\n",
       "dtype: int64"
      ]
     },
     "execution_count": 294,
     "metadata": {},
     "output_type": "execute_result"
    }
   ],
   "source": [
    "df_copy = df_copy.dropna()\n",
    "df_copy.isnull().sum()"
   ]
  },
  {
   "cell_type": "code",
   "execution_count": 317,
   "metadata": {},
   "outputs": [
    {
     "data": {
      "image/png": "[encoded data removed]",
      "text/plain": [
       "<Figure size 1440x432 with 1 Axes>"
      ]
     },
     "metadata": {
      "needs_background": "light"
     },
     "output_type": "display_data"
    },
    {
     "data": {
      "text/plain": [
       "<Figure size 432x288 with 0 Axes>"
      ]
     },
     "metadata": {},
     "output_type": "display_data"
    }
   ],
   "source": [
    "#Graficamos la distribucion de los valores originales\n",
    "plt.figure(figsize=(20, 6))\n",
    "sns.violinplot(data=df_copy, orient='v')\n",
    "plt.show()  \n",
    "plt.savefig('../images/distribucion_original.png')"
   ]
  },
  {
   "attachments": {},
   "cell_type": "markdown",
   "metadata": {},
   "source": [
    "#### CONCLUSIÓN\n",
    "No tenemos ningún tipo de información y se muestra así porque los datos no esta normalizados."
   ]
  },
  {
   "attachments": {},
   "cell_type": "markdown",
   "metadata": {},
   "source": [
    "#### PASO 1: Obtención y preparación de los datos"
   ]
  },
  {
   "cell_type": "code",
   "execution_count": 296,
   "metadata": {},
   "outputs": [],
   "source": [
    "#Preparamos el conjunto de datos del modelo\n",
    "\n",
    "#Variables independientes (features)\n",
    "X = df_copy.drop(['Categoria'], axis='columns')\n",
    "\n",
    "#Variable dependiente (target)\n",
    "y = df_copy['Categoria']"
   ]
  },
  {
   "attachments": {},
   "cell_type": "markdown",
   "metadata": {},
   "source": [
    "Se puede observar la necesidad de llevar todas las variables de entrada a una escala estándar, ya que las variables de entrada tienen diferentes escalas. Por lo tanto, se requiere una normalización de los datos (ya observado en la gráfica anterior)."
   ]
  },
  {
   "cell_type": "code",
   "execution_count": 297,
   "metadata": {},
   "outputs": [
    {
     "data": {
      "text/plain": [
       "array([[-1.71421443e+00, -1.72669859e+00, -9.55695950e-01, ...,\n",
       "        -1.32765566e+00, -1.71339426e+00, -1.56161863e+00],\n",
       "       [-1.71421443e+00, -1.72669859e+00, -9.55695950e-01, ...,\n",
       "        -1.32765566e+00, -1.71339426e+00, -1.56161863e+00],\n",
       "       [-1.71421443e+00, -1.72669859e+00, -9.55695950e-01, ...,\n",
       "        -1.32765566e+00, -1.71339426e+00, -1.56161863e+00],\n",
       "       ...,\n",
       "       [ 1.79384981e+00,  2.20343072e+00,  6.58083494e-01, ...,\n",
       "         1.69525924e-03,  1.80292812e+00,  1.04647976e+00],\n",
       "       [ 1.79384981e+00,  2.20343072e+00,  6.58083494e-01, ...,\n",
       "         1.69525924e-03,  1.80292812e+00,  1.04647976e+00],\n",
       "       [ 1.79384981e+00,  2.08134301e-01,  1.20157012e-01, ...,\n",
       "         1.69525924e-03,  1.80292812e+00,  1.04647976e+00]])"
      ]
     },
     "execution_count": 297,
     "metadata": {},
     "output_type": "execute_result"
    }
   ],
   "source": [
    "# importar los objetos necesarios de la librería sklearn\n",
    "from sklearn.preprocessing import StandardScaler\n",
    "\n",
    "# declarar el tipo de escalamiento y aplicarlo al conjunto de datos\n",
    "escalado = StandardScaler().fit(X)\n",
    "dataset_normal = escalado.transform(X)\n",
    "dataset_normal"
   ]
  },
  {
   "cell_type": "code",
   "execution_count": 298,
   "metadata": {},
   "outputs": [
    {
     "name": "stdout",
     "output_type": "stream",
     "text": [
      "<class 'pandas.core.frame.DataFrame'>\n"
     ]
    },
    {
     "data": {
      "text/html": [
       "<div>\n",
       "<style scoped>\n",
       "    .dataframe tbody tr th:only-of-type {\n",
       "        vertical-align: middle;\n",
       "    }\n",
       "\n",
       "    .dataframe tbody tr th {\n",
       "        vertical-align: top;\n",
       "    }\n",
       "\n",
       "    .dataframe thead th {\n",
       "        text-align: right;\n",
       "    }\n",
       "</style>\n",
       "<table border=\"1\" class=\"dataframe\">\n",
       "  <thead>\n",
       "    <tr style=\"text-align: right;\">\n",
       "      <th></th>\n",
       "      <th>Activity Period</th>\n",
       "      <th>Operating Airline</th>\n",
       "      <th>GEO Region</th>\n",
       "      <th>Price Category Code</th>\n",
       "      <th>Terminal</th>\n",
       "      <th>Year</th>\n",
       "      <th>Month</th>\n",
       "    </tr>\n",
       "  </thead>\n",
       "  <tbody>\n",
       "    <tr>\n",
       "      <th>0</th>\n",
       "      <td>-1.714214</td>\n",
       "      <td>-1.726699</td>\n",
       "      <td>-0.955696</td>\n",
       "      <td>-2.637161</td>\n",
       "      <td>-1.327656</td>\n",
       "      <td>-1.713394</td>\n",
       "      <td>-1.561619</td>\n",
       "    </tr>\n",
       "    <tr>\n",
       "      <th>1</th>\n",
       "      <td>-1.714214</td>\n",
       "      <td>-1.726699</td>\n",
       "      <td>-0.955696</td>\n",
       "      <td>-2.637161</td>\n",
       "      <td>-1.327656</td>\n",
       "      <td>-1.713394</td>\n",
       "      <td>-1.561619</td>\n",
       "    </tr>\n",
       "    <tr>\n",
       "      <th>2</th>\n",
       "      <td>-1.714214</td>\n",
       "      <td>-1.726699</td>\n",
       "      <td>-0.955696</td>\n",
       "      <td>-2.637161</td>\n",
       "      <td>-1.327656</td>\n",
       "      <td>-1.713394</td>\n",
       "      <td>-1.561619</td>\n",
       "    </tr>\n",
       "    <tr>\n",
       "      <th>3</th>\n",
       "      <td>-1.714214</td>\n",
       "      <td>-1.666235</td>\n",
       "      <td>-0.417769</td>\n",
       "      <td>0.379196</td>\n",
       "      <td>-1.327656</td>\n",
       "      <td>-1.713394</td>\n",
       "      <td>-1.561619</td>\n",
       "    </tr>\n",
       "    <tr>\n",
       "      <th>4</th>\n",
       "      <td>-1.714214</td>\n",
       "      <td>-1.666235</td>\n",
       "      <td>-0.417769</td>\n",
       "      <td>0.379196</td>\n",
       "      <td>-1.327656</td>\n",
       "      <td>-1.713394</td>\n",
       "      <td>-1.561619</td>\n",
       "    </tr>\n",
       "    <tr>\n",
       "      <th>...</th>\n",
       "      <td>...</td>\n",
       "      <td>...</td>\n",
       "      <td>...</td>\n",
       "      <td>...</td>\n",
       "      <td>...</td>\n",
       "      <td>...</td>\n",
       "      <td>...</td>\n",
       "    </tr>\n",
       "    <tr>\n",
       "      <th>14894</th>\n",
       "      <td>1.793850</td>\n",
       "      <td>0.873233</td>\n",
       "      <td>1.196010</td>\n",
       "      <td>0.379196</td>\n",
       "      <td>0.001695</td>\n",
       "      <td>1.802928</td>\n",
       "      <td>1.046480</td>\n",
       "    </tr>\n",
       "    <tr>\n",
       "      <th>14895</th>\n",
       "      <td>1.793850</td>\n",
       "      <td>0.873233</td>\n",
       "      <td>1.196010</td>\n",
       "      <td>0.379196</td>\n",
       "      <td>0.001695</td>\n",
       "      <td>1.802928</td>\n",
       "      <td>1.046480</td>\n",
       "    </tr>\n",
       "    <tr>\n",
       "      <th>14896</th>\n",
       "      <td>1.793850</td>\n",
       "      <td>2.203431</td>\n",
       "      <td>0.658083</td>\n",
       "      <td>0.379196</td>\n",
       "      <td>0.001695</td>\n",
       "      <td>1.802928</td>\n",
       "      <td>1.046480</td>\n",
       "    </tr>\n",
       "    <tr>\n",
       "      <th>14897</th>\n",
       "      <td>1.793850</td>\n",
       "      <td>2.203431</td>\n",
       "      <td>0.658083</td>\n",
       "      <td>0.379196</td>\n",
       "      <td>0.001695</td>\n",
       "      <td>1.802928</td>\n",
       "      <td>1.046480</td>\n",
       "    </tr>\n",
       "    <tr>\n",
       "      <th>14898</th>\n",
       "      <td>1.793850</td>\n",
       "      <td>0.208134</td>\n",
       "      <td>0.120157</td>\n",
       "      <td>0.379196</td>\n",
       "      <td>0.001695</td>\n",
       "      <td>1.802928</td>\n",
       "      <td>1.046480</td>\n",
       "    </tr>\n",
       "  </tbody>\n",
       "</table>\n",
       "<p>14899 rows × 7 columns</p>\n",
       "</div>"
      ],
      "text/plain": [
       "       Activity Period  Operating Airline  GEO Region  Price Category Code  \\\n",
       "0            -1.714214          -1.726699   -0.955696            -2.637161   \n",
       "1            -1.714214          -1.726699   -0.955696            -2.637161   \n",
       "2            -1.714214          -1.726699   -0.955696            -2.637161   \n",
       "3            -1.714214          -1.666235   -0.417769             0.379196   \n",
       "4            -1.714214          -1.666235   -0.417769             0.379196   \n",
       "...                ...                ...         ...                  ...   \n",
       "14894         1.793850           0.873233    1.196010             0.379196   \n",
       "14895         1.793850           0.873233    1.196010             0.379196   \n",
       "14896         1.793850           2.203431    0.658083             0.379196   \n",
       "14897         1.793850           2.203431    0.658083             0.379196   \n",
       "14898         1.793850           0.208134    0.120157             0.379196   \n",
       "\n",
       "       Terminal      Year     Month  \n",
       "0     -1.327656 -1.713394 -1.561619  \n",
       "1     -1.327656 -1.713394 -1.561619  \n",
       "2     -1.327656 -1.713394 -1.561619  \n",
       "3     -1.327656 -1.713394 -1.561619  \n",
       "4     -1.327656 -1.713394 -1.561619  \n",
       "...         ...       ...       ...  \n",
       "14894  0.001695  1.802928  1.046480  \n",
       "14895  0.001695  1.802928  1.046480  \n",
       "14896  0.001695  1.802928  1.046480  \n",
       "14897  0.001695  1.802928  1.046480  \n",
       "14898  0.001695  1.802928  1.046480  \n",
       "\n",
       "[14899 rows x 7 columns]"
      ]
     },
     "execution_count": 298,
     "metadata": {},
     "output_type": "execute_result"
    }
   ],
   "source": [
    "# Lo convertimos en un DataFrame, añadiendole sus etiquetas\n",
    "X_normal = pd.DataFrame(dataset_normal, columns=X.columns)\n",
    "print(type(X_normal))\n",
    "X_normal"
   ]
  },
  {
   "cell_type": "code",
   "execution_count": 316,
   "metadata": {},
   "outputs": [
    {
     "data": {
      "image/png": "[encoded data removed]",
      "text/plain": [
       "<Figure size 1440x432 with 1 Axes>"
      ]
     },
     "metadata": {
      "needs_background": "light"
     },
     "output_type": "display_data"
    },
    {
     "data": {
      "text/plain": [
       "<Figure size 432x288 with 0 Axes>"
      ]
     },
     "metadata": {},
     "output_type": "display_data"
    }
   ],
   "source": [
    "# Graficar la distribución de los valores estandarizados\n",
    "plt.figure(figsize=(20,6))\n",
    "sns.boxplot(data=X_normal,  orient='v')\n",
    "plt.show()\n",
    "plt.savefig('../images/boxplot_normal.png')"
   ]
  },
  {
   "attachments": {},
   "cell_type": "markdown",
   "metadata": {},
   "source": [
    "#### PASO 2: Dividir el dataset en Train y Test"
   ]
  },
  {
   "cell_type": "code",
   "execution_count": 300,
   "metadata": {},
   "outputs": [],
   "source": [
    "# Separar los conjuntos de datos de entrenamiento (Train) y de prueba (Test) para las variables de entrada y salida\n",
    "from sklearn.model_selection import train_test_split\n",
    "X_train, X_test, y_train, y_test = train_test_split(X_normal, y, test_size=0.2, random_state=88)"
   ]
  },
  {
   "cell_type": "code",
   "execution_count": 301,
   "metadata": {},
   "outputs": [
    {
     "name": "stdout",
     "output_type": "stream",
     "text": [
      "11919\n",
      "2980\n"
     ]
    },
    {
     "data": {
      "text/plain": [
       "14899"
      ]
     },
     "execution_count": 301,
     "metadata": {},
     "output_type": "execute_result"
    }
   ],
   "source": [
    "# \"test_size\" representa la proporción del conjunto de datos a incluir en la división de Test\n",
    "print(X_train.shape[0])\n",
    "print(X_test.shape[0])\n",
    "X_train.shape[0] + X_test.shape[0]"
   ]
  },
  {
   "attachments": {},
   "cell_type": "markdown",
   "metadata": {},
   "source": [
    "#### PASO 3: Cargar y elegir el modelo de regresión logística"
   ]
  },
  {
   "cell_type": "code",
   "execution_count": 302,
   "metadata": {},
   "outputs": [],
   "source": [
    "# Importar el módulo que corresponde al algoritmo\n",
    "from sklearn.linear_model import LogisticRegression\n",
    "\n",
    "# Asignar el algoritmo que vamos a aplicar \n",
    "log_r = LogisticRegression(max_iter=1000,\n",
    "                           random_state=100)"
   ]
  },
  {
   "attachments": {},
   "cell_type": "markdown",
   "metadata": {},
   "source": [
    "#### PASO 4: Entrenar el modelo de regresión logística con los datos de entrenamiento"
   ]
  },
  {
   "cell_type": "code",
   "execution_count": 303,
   "metadata": {},
   "outputs": [
    {
     "data": {
      "text/plain": [
       "LogisticRegression(max_iter=1000, random_state=100)"
      ]
     },
     "execution_count": 303,
     "metadata": {},
     "output_type": "execute_result"
    }
   ],
   "source": [
    "# Entrenar el modelo\n",
    "log_r.fit(X_train, y_train)"
   ]
  },
  {
   "attachments": {},
   "cell_type": "markdown",
   "metadata": {},
   "source": [
    "#### PASO 5: Obtener las predicciones"
   ]
  },
  {
   "cell_type": "code",
   "execution_count": 305,
   "metadata": {},
   "outputs": [
    {
     "name": "stdout",
     "output_type": "stream",
     "text": [
      "[3. 2. 3. ... 3. 1. 1.]\n"
     ]
    }
   ],
   "source": [
    "# Calcular las predicciones con el conjunto de prueba\n",
    "y_pred = log_r.predict(X_test)\n",
    "# Imprimir la salida del modelo (número pasajeros)\n",
    "print(y_pred)"
   ]
  },
  {
   "cell_type": "code",
   "execution_count": 306,
   "metadata": {},
   "outputs": [
    {
     "data": {
      "text/plain": [
       "0.5036912751677852"
      ]
     },
     "execution_count": 306,
     "metadata": {},
     "output_type": "execute_result"
    }
   ],
   "source": [
    "from sklearn.metrics import accuracy_score\n",
    "accuracy_score(y_test, y_pred)"
   ]
  },
  {
   "attachments": {},
   "cell_type": "markdown",
   "metadata": {},
   "source": [
    "#### CONCLUSIÓN\n",
    "Obtuvimos un 0.50 de precisión, lo que significa que el modelo de regresión logística predijo correctamente el 50% de los casos.\n"
   ]
  },
  {
   "cell_type": "code",
   "execution_count": 307,
   "metadata": {},
   "outputs": [
    {
     "name": "stdout",
     "output_type": "stream",
     "text": [
      "              precision    recall  f1-score   support\n",
      "\n",
      "         1.0       0.48      0.32      0.38      1009\n",
      "         2.0       0.50      0.49      0.50      1002\n",
      "         3.0       0.52      0.72      0.60       969\n",
      "\n",
      "    accuracy                           0.50      2980\n",
      "   macro avg       0.50      0.51      0.49      2980\n",
      "weighted avg       0.50      0.50      0.49      2980\n",
      "\n"
     ]
    }
   ],
   "source": [
    "from sklearn.metrics import classification_report\n",
    "print(classification_report(y_test, y_pred))"
   ]
  },
  {
   "cell_type": "code",
   "execution_count": 314,
   "metadata": {},
   "outputs": [
    {
     "data": {
      "image/png": "[encoded data removed]",
      "text/plain": [
       "<Figure size 432x288 with 2 Axes>"
      ]
     },
     "metadata": {
      "needs_background": "light"
     },
     "output_type": "display_data"
    },
    {
     "data": {
      "text/plain": [
       "<Figure size 432x288 with 0 Axes>"
      ]
     },
     "metadata": {},
     "output_type": "display_data"
    }
   ],
   "source": [
    "from sklearn.metrics import confusion_matrix, ConfusionMatrixDisplay\n",
    "\n",
    "disp = ConfusionMatrixDisplay(confusion_matrix=confusion_matrix(y_test, y_pred),\n",
    "                               display_labels=log_r.classes_)\n",
    "disp.plot()\n",
    "\n",
    "plt.show()\n",
    "#Guardamos la imagen\n",
    "plt.savefig('../images/MatrizConfusion_Tree.png')"
   ]
  },
  {
   "attachments": {},
   "cell_type": "markdown",
   "metadata": {},
   "source": [
    "### RANDOM FOREST REGRESSOR (modelo de clasificación)"
   ]
  },
  {
   "cell_type": "code",
   "execution_count": 309,
   "metadata": {},
   "outputs": [],
   "source": [
    "# Dividir los datos en conjuntos de entrenamiento y prueba\n",
    "X_train, X_test, y_train, y_test = train_test_split(X, y, test_size=0.2, random_state=42)"
   ]
  },
  {
   "cell_type": "code",
   "execution_count": 310,
   "metadata": {},
   "outputs": [
    {
     "name": "stdout",
     "output_type": "stream",
     "text": [
      "Precisión del modelo: 0.8093959731543624\n"
     ]
    }
   ],
   "source": [
    "from sklearn.ensemble import RandomForestClassifier\n",
    "# Crear el modelo de clasificación\n",
    "model = RandomForestClassifier()\n",
    "\n",
    "# Entrenar el modelo\n",
    "model.fit(X_train, y_train)\n",
    "\n",
    "# Realizar predicciones en el conjunto de prueba\n",
    "y_pred = model.predict(X_test)\n",
    "\n",
    "# Calcular la precisión del modelo\n",
    "accuracy = accuracy_score(y_test, y_pred)\n",
    "print(\"Precisión del modelo:\", accuracy)"
   ]
  },
  {
   "attachments": {},
   "cell_type": "markdown",
   "metadata": {},
   "source": [
    "#### CONCLUSIÓN\n",
    "Como observamos en este modelo obtenemos una precisión mayor a la del modelo anterior, por lo que podemos decir que este modelo es mejor para predecir la variable ``Passenger_Count``."
   ]
  },
  {
   "cell_type": "code",
   "execution_count": 311,
   "metadata": {},
   "outputs": [
    {
     "name": "stdout",
     "output_type": "stream",
     "text": [
      "              precision    recall  f1-score   support\n",
      "\n",
      "         1.0       0.75      0.74      0.75       966\n",
      "         2.0       0.82      0.82      0.82       991\n",
      "         3.0       0.85      0.87      0.86      1023\n",
      "\n",
      "    accuracy                           0.81      2980\n",
      "   macro avg       0.81      0.81      0.81      2980\n",
      "weighted avg       0.81      0.81      0.81      2980\n",
      "\n"
     ]
    }
   ],
   "source": [
    "print(classification_report(y_test, y_pred))"
   ]
  },
  {
   "cell_type": "code",
   "execution_count": 315,
   "metadata": {},
   "outputs": [
    {
     "data": {
      "image/png": "[encoded data removed]",
      "text/plain": [
       "<Figure size 432x288 with 2 Axes>"
      ]
     },
     "metadata": {
      "needs_background": "light"
     },
     "output_type": "display_data"
    },
    {
     "data": {
      "text/plain": [
       "<Figure size 432x288 with 0 Axes>"
      ]
     },
     "metadata": {},
     "output_type": "display_data"
    }
   ],
   "source": [
    "disp = ConfusionMatrixDisplay(confusion_matrix=confusion_matrix(y_test, y_pred),\n",
    "                               display_labels=log_r.classes_)\n",
    "disp.plot()\n",
    "\n",
    "plt.show()\n",
    "#Guardamos la imagen\n",
    "plt.savefig('../images/MatrizConfusion_Forest.png')\n"
   ]
  }
 ],
 "metadata": {
  "kernelspec": {
   "display_name": "base",
   "language": "python",
   "name": "python3"
  },
  "language_info": {
   "codemirror_mode": {
    "name": "ipython",
    "version": 3
   },
   "file_extension": ".py",
   "mimetype": "text/x-python",
   "name": "python",
   "nbconvert_exporter": "python",
   "pygments_lexer": "ipython3",
   "version": "3.9.7"
  },
  "orig_nbformat": 4
 },
 "nbformat": 4,
 "nbformat_minor": 2
}
